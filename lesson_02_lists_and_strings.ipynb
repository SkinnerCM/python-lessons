{
 "cells": [
  {
   "cell_type": "markdown",
   "id": "9099e110",
   "metadata": {},
   "source": [
    "# Welcome back!\n",
    "\n",
    "# Data, data, data. Programming is *all* about manipulating data\n",
    "\n",
    "### Note that there are different *data types* in Python such as *int (integer), str (string), list (self-explanatory), float (a \"floating point number\" is a decimal number), tuple (a special data structure similar to a list, but with important differences), dict (dictionary)*, and more.\n",
    "\n",
    "### \"Primitive\" data types are the most basic and include int, float, str, bool (a logical data type that is just \"True\" or \"False\") and NoneType (a special data type in Python which is literally just has the value \"None\").\n",
    "\n",
    "### Other data types are those which are composed of primitive data types. We call them (wait for it) \"composite\" data types. These include lists, strings, tuples, dictionaries etc. In this lesson we're going to go over two of the composite data types: lists and strings.\n",
    "\n",
    "\n",
    "### Anything wrapped in single or double quotes in Python is automatically translated to be a *str* data type.\n",
    "\n",
    "Example:"
   ]
  },
  {
   "cell_type": "code",
   "execution_count": 2,
   "id": "dbf4d9e1",
   "metadata": {},
   "outputs": [],
   "source": [
    "x = '4'"
   ]
  },
  {
   "cell_type": "code",
   "execution_count": 3,
   "id": "6706958d",
   "metadata": {},
   "outputs": [
    {
     "data": {
      "text/plain": [
       "str"
      ]
     },
     "execution_count": 3,
     "metadata": {},
     "output_type": "execute_result"
    }
   ],
   "source": [
    "type(x)"
   ]
  },
  {
   "cell_type": "markdown",
   "id": "b28aba4c",
   "metadata": {},
   "source": [
    "### More detail on strings later"
   ]
  },
  {
   "cell_type": "markdown",
   "id": "64f22884",
   "metadata": {},
   "source": [
    "### A *list* is a collection of elements, which can be of *any* data type (including lists themselves) and are wrapped in brackets and separated by commas."
   ]
  },
  {
   "cell_type": "code",
   "execution_count": 5,
   "id": "3ed4a88b",
   "metadata": {},
   "outputs": [],
   "source": [
    "my_list = [1,'hello',['a','b','c']]"
   ]
  },
  {
   "cell_type": "markdown",
   "id": "5a571433",
   "metadata": {},
   "source": [
    "### Python allows you to access elements of lists through something called *indexing*, which is done by doing \\<list_name\\>[i]. *Important*: Python indexing starts at 0, not at 1!"
   ]
  },
  {
   "cell_type": "code",
   "execution_count": 6,
   "id": "98256ac5",
   "metadata": {},
   "outputs": [
    {
     "data": {
      "text/plain": [
       "1"
      ]
     },
     "execution_count": 6,
     "metadata": {},
     "output_type": "execute_result"
    }
   ],
   "source": [
    "my_list[0]"
   ]
  },
  {
   "cell_type": "code",
   "execution_count": 7,
   "id": "e763bb88",
   "metadata": {},
   "outputs": [
    {
     "data": {
      "text/plain": [
       "'hello'"
      ]
     },
     "execution_count": 7,
     "metadata": {},
     "output_type": "execute_result"
    }
   ],
   "source": [
    "my_list[1]"
   ]
  },
  {
   "cell_type": "code",
   "execution_count": 8,
   "id": "b575cb59",
   "metadata": {},
   "outputs": [
    {
     "data": {
      "text/plain": [
       "['a', 'b', 'c']"
      ]
     },
     "execution_count": 8,
     "metadata": {},
     "output_type": "execute_result"
    }
   ],
   "source": [
    "my_list[2]"
   ]
  },
  {
   "cell_type": "markdown",
   "id": "c1b7db61",
   "metadata": {},
   "source": [
    "### We'll get an error if we try to access indices of a list that do not exist"
   ]
  },
  {
   "cell_type": "code",
   "execution_count": 9,
   "id": "5c3ce97a",
   "metadata": {},
   "outputs": [
    {
     "ename": "IndexError",
     "evalue": "list index out of range",
     "output_type": "error",
     "traceback": [
      "\u001b[1;31m---------------------------------------------------------------------------\u001b[0m",
      "\u001b[1;31mIndexError\u001b[0m                                Traceback (most recent call last)",
      "Cell \u001b[1;32mIn[9], line 1\u001b[0m\n\u001b[1;32m----> 1\u001b[0m \u001b[43mmy_list\u001b[49m\u001b[43m[\u001b[49m\u001b[38;5;241;43m3\u001b[39;49m\u001b[43m]\u001b[49m\n",
      "\u001b[1;31mIndexError\u001b[0m: list index out of range"
     ]
    }
   ],
   "source": [
    "my_list[3]"
   ]
  },
  {
   "cell_type": "markdown",
   "id": "e48f1d4e",
   "metadata": {},
   "source": [
    "### Lists can be added to other lists, to produce a combined list"
   ]
  },
  {
   "cell_type": "code",
   "execution_count": 21,
   "id": "6540b766",
   "metadata": {},
   "outputs": [],
   "source": [
    "other_list = [5,6,7.4]"
   ]
  },
  {
   "cell_type": "code",
   "execution_count": 22,
   "id": "4beae17e",
   "metadata": {},
   "outputs": [],
   "source": [
    "combined_list = my_list + other_list"
   ]
  },
  {
   "cell_type": "code",
   "execution_count": 23,
   "id": "484d4f71",
   "metadata": {},
   "outputs": [
    {
     "data": {
      "text/plain": [
       "[1, 'hello', ['a', 'b', 'c'], 5, 6, 7.4]"
      ]
     },
     "execution_count": 23,
     "metadata": {},
     "output_type": "execute_result"
    }
   ],
   "source": [
    "combined_list"
   ]
  },
  {
   "cell_type": "code",
   "execution_count": 24,
   "id": "619fa2b1",
   "metadata": {},
   "outputs": [
    {
     "data": {
      "text/plain": [
       "5"
      ]
     },
     "execution_count": 24,
     "metadata": {},
     "output_type": "execute_result"
    }
   ],
   "source": [
    "combined_list[3]"
   ]
  },
  {
   "cell_type": "markdown",
   "id": "fbf51509",
   "metadata": {},
   "source": [
    "### Sometimes we have lists of lists (called nested lists), and we want to access an element of an inner list. Here's how we do it"
   ]
  },
  {
   "cell_type": "code",
   "execution_count": 25,
   "id": "2953f394",
   "metadata": {},
   "outputs": [
    {
     "data": {
      "text/plain": [
       "'b'"
      ]
     },
     "execution_count": 25,
     "metadata": {},
     "output_type": "execute_result"
    }
   ],
   "source": [
    "combined_list[2][1]"
   ]
  },
  {
   "cell_type": "markdown",
   "id": "8e3d7e49",
   "metadata": {},
   "source": [
    "### Why does this work? Very important to understand something here. If the element in the third position (i.e. at index 2) in 'combined_list' is itself a list, then 'combined_list[2]' will *return* a list. Very important to understand this: if 'combined_list[2]' returns a list, then it *is* a list. In other words, the thing you ask Python for is *equal* to the thing it returns to you. Does this make sense? If not, read this again or try using online resources to make sure you get this. Here's how understandin this is helpful: since 'combined_list[2]' is returning a list, it is itself a list, and lists can be indexed into, therefore it make sense to do 'combined_list[2][1]'. If it helps you can think of it as '(combined_list[2])[1]' or '(the list returned by 'combined_list[2]')[1]'"
   ]
  },
  {
   "cell_type": "markdown",
   "id": "5dff735a",
   "metadata": {},
   "source": [
    "### There is no limit on the depth of nesting"
   ]
  },
  {
   "cell_type": "code",
   "execution_count": 27,
   "id": "168c5689",
   "metadata": {},
   "outputs": [],
   "source": [
    "nested_lists = [1,2,[3,4,[5,6,['deepest list']]]]"
   ]
  },
  {
   "cell_type": "code",
   "execution_count": 33,
   "id": "62aca255",
   "metadata": {},
   "outputs": [
    {
     "data": {
      "text/plain": [
       "[3, 4, [5, 6, ['deepest list']]]"
      ]
     },
     "execution_count": 33,
     "metadata": {},
     "output_type": "execute_result"
    }
   ],
   "source": [
    "nested_lists[2]"
   ]
  },
  {
   "cell_type": "code",
   "execution_count": 32,
   "id": "8f6664e4",
   "metadata": {},
   "outputs": [
    {
     "data": {
      "text/plain": [
       "[5, 6, ['deepest list']]"
      ]
     },
     "execution_count": 32,
     "metadata": {},
     "output_type": "execute_result"
    }
   ],
   "source": [
    "nested_lists[2][2]"
   ]
  },
  {
   "cell_type": "code",
   "execution_count": 34,
   "id": "1a8ab4fe",
   "metadata": {},
   "outputs": [
    {
     "data": {
      "text/plain": [
       "['deepest list']"
      ]
     },
     "execution_count": 34,
     "metadata": {},
     "output_type": "execute_result"
    }
   ],
   "source": [
    "nested_lists[2][2][2]"
   ]
  },
  {
   "cell_type": "code",
   "execution_count": 36,
   "id": "f56045c8",
   "metadata": {},
   "outputs": [
    {
     "data": {
      "text/plain": [
       "'deepest list'"
      ]
     },
     "execution_count": 36,
     "metadata": {},
     "output_type": "execute_result"
    }
   ],
   "source": [
    "nested_lists[2][2][2][0]"
   ]
  },
  {
   "cell_type": "markdown",
   "id": "936a4d6e",
   "metadata": {},
   "source": [
    "### What do you think happens if we try to index further after reaching the deepest string element in nested_lists?"
   ]
  },
  {
   "cell_type": "code",
   "execution_count": 37,
   "id": "c03dd5f1",
   "metadata": {},
   "outputs": [
    {
     "data": {
      "text/plain": [
       "'d'"
      ]
     },
     "execution_count": 37,
     "metadata": {},
     "output_type": "execute_result"
    }
   ],
   "source": [
    "nested_lists[2][2][2][0][0]"
   ]
  },
  {
   "cell_type": "markdown",
   "id": "268f52b1",
   "metadata": {},
   "source": [
    "### Wait, what?! Apparently, Python lets you index strings the same way you index lists. Let's look more at strings:"
   ]
  },
  {
   "cell_type": "code",
   "execution_count": 38,
   "id": "57197407",
   "metadata": {},
   "outputs": [],
   "source": [
    "string1 = 'Hello World!'"
   ]
  },
  {
   "cell_type": "code",
   "execution_count": 39,
   "id": "4622e26b",
   "metadata": {},
   "outputs": [
    {
     "data": {
      "text/plain": [
       "'e'"
      ]
     },
     "execution_count": 39,
     "metadata": {},
     "output_type": "execute_result"
    }
   ],
   "source": [
    "string1[1]"
   ]
  },
  {
   "cell_type": "markdown",
   "id": "da5b7ec8",
   "metadata": {},
   "source": [
    "### Strings can also be added the way that lists are added"
   ]
  },
  {
   "cell_type": "code",
   "execution_count": 43,
   "id": "9bbd4189",
   "metadata": {},
   "outputs": [],
   "source": [
    "part1 = 'Hello'\n",
    "part2 = ' World!'"
   ]
  },
  {
   "cell_type": "code",
   "execution_count": 44,
   "id": "093c79c4",
   "metadata": {},
   "outputs": [
    {
     "data": {
      "text/plain": [
       "'Hello World!'"
      ]
     },
     "execution_count": 44,
     "metadata": {},
     "output_type": "execute_result"
    }
   ],
   "source": [
    "part1+part2"
   ]
  },
  {
   "cell_type": "markdown",
   "id": "99d5b2ce",
   "metadata": {},
   "source": [
    "### Not only can we access single elements of lists, but we can also access chunks or *slices* of lists, using a method in Python called \"slicing\". Here's how:"
   ]
  },
  {
   "cell_type": "code",
   "execution_count": 1,
   "id": "fb66bb0d",
   "metadata": {},
   "outputs": [],
   "source": [
    "numbers = [0,1,2,3,4,5,6,7,8,9]"
   ]
  },
  {
   "cell_type": "code",
   "execution_count": 2,
   "id": "4572167d",
   "metadata": {},
   "outputs": [],
   "source": [
    "letters = ['A','B','C','D','E']"
   ]
  },
  {
   "cell_type": "code",
   "execution_count": 49,
   "id": "16df211d",
   "metadata": {},
   "outputs": [
    {
     "data": {
      "text/plain": [
       "[2, 3, 4, 5]"
      ]
     },
     "execution_count": 49,
     "metadata": {},
     "output_type": "execute_result"
    }
   ],
   "source": [
    "numbers[2:6] # the syntax is <list name>[starting index:ending index]"
   ]
  },
  {
   "cell_type": "code",
   "execution_count": 50,
   "id": "759441ac",
   "metadata": {},
   "outputs": [
    {
     "data": {
      "text/plain": [
       "[1, 2, 3, 4, 5, 6, 7, 8]"
      ]
     },
     "execution_count": 50,
     "metadata": {},
     "output_type": "execute_result"
    }
   ],
   "source": [
    "numbers[1:9]"
   ]
  },
  {
   "cell_type": "markdown",
   "id": "37296ed5",
   "metadata": {},
   "source": [
    "### We can omit the starting index and Python just interprets that as \"start from index 0\""
   ]
  },
  {
   "cell_type": "code",
   "execution_count": 51,
   "id": "5d80c2c7",
   "metadata": {},
   "outputs": [
    {
     "data": {
      "text/plain": [
       "[0, 1, 2, 3, 4, 5]"
      ]
     },
     "execution_count": 51,
     "metadata": {},
     "output_type": "execute_result"
    }
   ],
   "source": [
    "numbers[:6]"
   ]
  },
  {
   "cell_type": "markdown",
   "id": "a55677c7",
   "metadata": {},
   "source": [
    "### Or we can omit the ending index and Python interprets that as \"give me everything from the start index until the end\""
   ]
  },
  {
   "cell_type": "code",
   "execution_count": 52,
   "id": "d8d9dbd3",
   "metadata": {},
   "outputs": [
    {
     "data": {
      "text/plain": [
       "[2, 3, 4, 5, 6, 7, 8, 9]"
      ]
     },
     "execution_count": 52,
     "metadata": {},
     "output_type": "execute_result"
    }
   ],
   "source": [
    "numbers[2:]"
   ]
  },
  {
   "cell_type": "markdown",
   "id": "89d50248",
   "metadata": {},
   "source": [
    "### Kind of pointless, but if we omit both the starting and ending indices we just get the whole list (but we see Python is logically consistent!)"
   ]
  },
  {
   "cell_type": "code",
   "execution_count": 53,
   "id": "1ba221b8",
   "metadata": {},
   "outputs": [
    {
     "data": {
      "text/plain": [
       "[0, 1, 2, 3, 4, 5, 6, 7, 8, 9]"
      ]
     },
     "execution_count": 53,
     "metadata": {},
     "output_type": "execute_result"
    }
   ],
   "source": [
    "numbers[:]"
   ]
  },
  {
   "cell_type": "markdown",
   "id": "de4efd54",
   "metadata": {},
   "source": [
    "### We can also index into a list from the end, rather than from the beginning "
   ]
  },
  {
   "cell_type": "code",
   "execution_count": 54,
   "id": "bf9d7b83",
   "metadata": {},
   "outputs": [
    {
     "data": {
      "text/plain": [
       "9"
      ]
     },
     "execution_count": 54,
     "metadata": {},
     "output_type": "execute_result"
    }
   ],
   "source": [
    "numbers[-1]"
   ]
  },
  {
   "cell_type": "code",
   "execution_count": 55,
   "id": "974282b5",
   "metadata": {},
   "outputs": [
    {
     "data": {
      "text/plain": [
       "[8, 9]"
      ]
     },
     "execution_count": 55,
     "metadata": {},
     "output_type": "execute_result"
    }
   ],
   "source": [
    "numbers[-2:]"
   ]
  },
  {
   "cell_type": "markdown",
   "id": "65c8d88e",
   "metadata": {},
   "source": [
    "### We can also reverse the order of a list in the following way:"
   ]
  },
  {
   "cell_type": "code",
   "execution_count": 57,
   "id": "55fbd6fc",
   "metadata": {},
   "outputs": [
    {
     "data": {
      "text/plain": [
       "[9, 8, 7, 6, 5, 4, 3, 2, 1, 0]"
      ]
     },
     "execution_count": 57,
     "metadata": {},
     "output_type": "execute_result"
    }
   ],
   "source": [
    "numbers[::-1]"
   ]
  },
  {
   "cell_type": "markdown",
   "id": "2e696e6a",
   "metadata": {},
   "source": [
    "### It turns out that there are a ton of built-in Python functions for dealing with lists. We can always see what the optional functions of a built-in datatype/function using the \"dir()\" function"
   ]
  },
  {
   "cell_type": "code",
   "execution_count": 59,
   "id": "02edcf21",
   "metadata": {},
   "outputs": [
    {
     "data": {
      "text/plain": [
       "['__add__',\n",
       " '__class__',\n",
       " '__contains__',\n",
       " '__delattr__',\n",
       " '__delitem__',\n",
       " '__dir__',\n",
       " '__doc__',\n",
       " '__eq__',\n",
       " '__format__',\n",
       " '__ge__',\n",
       " '__getattribute__',\n",
       " '__getitem__',\n",
       " '__gt__',\n",
       " '__hash__',\n",
       " '__iadd__',\n",
       " '__imul__',\n",
       " '__init__',\n",
       " '__init_subclass__',\n",
       " '__iter__',\n",
       " '__le__',\n",
       " '__len__',\n",
       " '__lt__',\n",
       " '__mul__',\n",
       " '__ne__',\n",
       " '__new__',\n",
       " '__reduce__',\n",
       " '__reduce_ex__',\n",
       " '__repr__',\n",
       " '__reversed__',\n",
       " '__rmul__',\n",
       " '__setattr__',\n",
       " '__setitem__',\n",
       " '__sizeof__',\n",
       " '__str__',\n",
       " '__subclasshook__',\n",
       " 'append',\n",
       " 'clear',\n",
       " 'copy',\n",
       " 'count',\n",
       " 'extend',\n",
       " 'index',\n",
       " 'insert',\n",
       " 'pop',\n",
       " 'remove',\n",
       " 'reverse',\n",
       " 'sort']"
      ]
     },
     "execution_count": 59,
     "metadata": {},
     "output_type": "execute_result"
    }
   ],
   "source": [
    "dir(numbers)"
   ]
  },
  {
   "cell_type": "markdown",
   "id": "f9e87137",
   "metadata": {},
   "source": [
    "### Let's see what the \"sort\" method does. (Wait, what's a method? Well, it's a special type of function. What's a function? Well, that's a couple lessons away. For now, just think of a function as a reusable bit of code that does some specific task). We \"call\" methods by using \"dot notation\". It goes like this: \n",
    "\n",
    "### \\<data_instance\\>.\\<method_name\\>(\\<inputs\\>) \n",
    "\n",
    "### (Note: when we want to show syntax without using a specific name of a variable/function/instance-of-data we use the \\< and \\> symbols. In reality, you substitute the \\<\"stuff\"\\> with actual names of variables/functions/instances-of-data.)"
   ]
  },
  {
   "cell_type": "code",
   "execution_count": 14,
   "id": "0737b3d0",
   "metadata": {},
   "outputs": [
    {
     "name": "stdout",
     "output_type": "stream",
     "text": [
      "Help on built-in function sort:\n",
      "\n",
      "sort(*, key=None, reverse=False) method of builtins.list instance\n",
      "    Stable sort *IN PLACE*.\n",
      "\n"
     ]
    }
   ],
   "source": [
    "help(letters.sort)"
   ]
  },
  {
   "cell_type": "markdown",
   "id": "b47a12e7",
   "metadata": {},
   "source": [
    "### Calling the help function on the sort method for lists tells us that it sorts the elements of the list *in place*, which means it doesn't produce a separate, sorted version of our list as new data, but instead sorts the list directly, so you do not have to save the sorted list to a variable--it's already saved...to the variable you already made for the list"
   ]
  },
  {
   "cell_type": "code",
   "execution_count": 8,
   "id": "afe67cc9",
   "metadata": {},
   "outputs": [
    {
     "data": {
      "text/plain": [
       "['A', 'B', 'C', 'D', 'E']"
      ]
     },
     "execution_count": 8,
     "metadata": {},
     "output_type": "execute_result"
    }
   ],
   "source": [
    "letters"
   ]
  },
  {
   "cell_type": "markdown",
   "id": "9c9d8857",
   "metadata": {},
   "source": [
    "### This list is already sorted, so to see an example of the sort method in action let's create an unsorted list."
   ]
  },
  {
   "cell_type": "code",
   "execution_count": 1,
   "id": "6b1d3faf",
   "metadata": {},
   "outputs": [],
   "source": [
    "messy_list=['f','a','z','c']"
   ]
  },
  {
   "cell_type": "code",
   "execution_count": 2,
   "id": "6a6d26ac",
   "metadata": {},
   "outputs": [],
   "source": [
    "messy_list.sort()"
   ]
  },
  {
   "cell_type": "code",
   "execution_count": 3,
   "id": "be3c1421",
   "metadata": {},
   "outputs": [
    {
     "data": {
      "text/plain": [
       "['a', 'c', 'f', 'z']"
      ]
     },
     "execution_count": 3,
     "metadata": {},
     "output_type": "execute_result"
    }
   ],
   "source": [
    "messy_list"
   ]
  },
  {
   "cell_type": "markdown",
   "id": "c8d9631d",
   "metadata": {},
   "source": [
    "### So we see it works as we expect. We see the sort method also has a \"reverse\" option which appears to be set to \"False\" by default. Let's see what happens if we call sort again on our messy_list, but with the reverse option set to \"True\""
   ]
  },
  {
   "cell_type": "code",
   "execution_count": 5,
   "id": "c0887349",
   "metadata": {},
   "outputs": [],
   "source": [
    "messy_list.sort(reverse=True)"
   ]
  },
  {
   "cell_type": "code",
   "execution_count": 6,
   "id": "eb596d78",
   "metadata": {},
   "outputs": [
    {
     "data": {
      "text/plain": [
       "['z', 'f', 'c', 'a']"
      ]
     },
     "execution_count": 6,
     "metadata": {},
     "output_type": "execute_result"
    }
   ],
   "source": [
    "messy_list"
   ]
  },
  {
   "cell_type": "markdown",
   "id": "cd332230",
   "metadata": {},
   "source": [
    "### Aha! It all makes sense!"
   ]
  },
  {
   "cell_type": "markdown",
   "id": "0895dee8",
   "metadata": {},
   "source": [
    "### There are all kinds of methods for lists. Let's see what the \"pop\" method does, it sounds interesting."
   ]
  },
  {
   "cell_type": "code",
   "execution_count": 7,
   "id": "4de37f02",
   "metadata": {},
   "outputs": [
    {
     "data": {
      "text/plain": [
       "'a'"
      ]
     },
     "execution_count": 7,
     "metadata": {},
     "output_type": "execute_result"
    }
   ],
   "source": [
    "messy_list.pop()"
   ]
  },
  {
   "cell_type": "code",
   "execution_count": 8,
   "id": "f6456921",
   "metadata": {},
   "outputs": [
    {
     "data": {
      "text/plain": [
       "['z', 'f', 'c']"
      ]
     },
     "execution_count": 8,
     "metadata": {},
     "output_type": "execute_result"
    }
   ],
   "source": [
    "messy_list"
   ]
  },
  {
   "cell_type": "markdown",
   "id": "ce341aaf",
   "metadata": {},
   "source": [
    "### So it looks like it removed the last element in our list and did so in place. Hmm. Maybe that could be useful some day."
   ]
  },
  {
   "cell_type": "markdown",
   "id": "fd1f896f",
   "metadata": {},
   "source": [
    "### Let's see what kind of built-in methods there are for strings! "
   ]
  },
  {
   "cell_type": "code",
   "execution_count": 9,
   "id": "a5963f97",
   "metadata": {},
   "outputs": [],
   "source": [
    "my_string = 'This is a string.'"
   ]
  },
  {
   "cell_type": "code",
   "execution_count": 10,
   "id": "ba9b5484",
   "metadata": {},
   "outputs": [
    {
     "data": {
      "text/plain": [
       "['__add__',\n",
       " '__class__',\n",
       " '__contains__',\n",
       " '__delattr__',\n",
       " '__dir__',\n",
       " '__doc__',\n",
       " '__eq__',\n",
       " '__format__',\n",
       " '__ge__',\n",
       " '__getattribute__',\n",
       " '__getitem__',\n",
       " '__getnewargs__',\n",
       " '__gt__',\n",
       " '__hash__',\n",
       " '__init__',\n",
       " '__init_subclass__',\n",
       " '__iter__',\n",
       " '__le__',\n",
       " '__len__',\n",
       " '__lt__',\n",
       " '__mod__',\n",
       " '__mul__',\n",
       " '__ne__',\n",
       " '__new__',\n",
       " '__reduce__',\n",
       " '__reduce_ex__',\n",
       " '__repr__',\n",
       " '__rmod__',\n",
       " '__rmul__',\n",
       " '__setattr__',\n",
       " '__sizeof__',\n",
       " '__str__',\n",
       " '__subclasshook__',\n",
       " 'capitalize',\n",
       " 'casefold',\n",
       " 'center',\n",
       " 'count',\n",
       " 'encode',\n",
       " 'endswith',\n",
       " 'expandtabs',\n",
       " 'find',\n",
       " 'format',\n",
       " 'format_map',\n",
       " 'index',\n",
       " 'isalnum',\n",
       " 'isalpha',\n",
       " 'isascii',\n",
       " 'isdecimal',\n",
       " 'isdigit',\n",
       " 'isidentifier',\n",
       " 'islower',\n",
       " 'isnumeric',\n",
       " 'isprintable',\n",
       " 'isspace',\n",
       " 'istitle',\n",
       " 'isupper',\n",
       " 'join',\n",
       " 'ljust',\n",
       " 'lower',\n",
       " 'lstrip',\n",
       " 'maketrans',\n",
       " 'partition',\n",
       " 'replace',\n",
       " 'rfind',\n",
       " 'rindex',\n",
       " 'rjust',\n",
       " 'rpartition',\n",
       " 'rsplit',\n",
       " 'rstrip',\n",
       " 'split',\n",
       " 'splitlines',\n",
       " 'startswith',\n",
       " 'strip',\n",
       " 'swapcase',\n",
       " 'title',\n",
       " 'translate',\n",
       " 'upper',\n",
       " 'zfill']"
      ]
     },
     "execution_count": 10,
     "metadata": {},
     "output_type": "execute_result"
    }
   ],
   "source": [
    "dir(my_string)"
   ]
  },
  {
   "cell_type": "markdown",
   "id": "cabe15d2",
   "metadata": {},
   "source": [
    "### Sometimes you can find useful information about how a function or method works by checking its *doc string*. We can do this with the \\__doc__ dunder (\"double underscore\") method (more on those later)."
   ]
  },
  {
   "cell_type": "code",
   "execution_count": 41,
   "id": "69c2474d",
   "metadata": {},
   "outputs": [
    {
     "data": {
      "text/plain": [
       "'Replace each character in the string using the given translation table.\\n\\n  table\\n    Translation table, which must be a mapping of Unicode ordinals to\\n    Unicode ordinals, strings, or None.\\n\\nThe table must implement lookup/indexing via __getitem__, for instance a\\ndictionary or list.  If this operation raises LookupError, the character is\\nleft untouched.  Characters mapped to None are deleted.'"
      ]
     },
     "execution_count": 41,
     "metadata": {},
     "output_type": "execute_result"
    }
   ],
   "source": [
    "''.translate.__doc__"
   ]
  },
  {
   "cell_type": "code",
   "execution_count": 37,
   "id": "1a657654",
   "metadata": {},
   "outputs": [
    {
     "data": {
      "text/plain": [
       "str"
      ]
     },
     "execution_count": 37,
     "metadata": {},
     "output_type": "execute_result"
    }
   ],
   "source": [
    "type('')"
   ]
  },
  {
   "cell_type": "code",
   "execution_count": 24,
   "id": "1997d2e4",
   "metadata": {},
   "outputs": [
    {
     "data": {
      "text/plain": [
       "['This', 'is', 'a', 'string.']"
      ]
     },
     "execution_count": 24,
     "metadata": {},
     "output_type": "execute_result"
    }
   ],
   "source": [
    "my_string.rsplit(' ')"
   ]
  },
  {
   "cell_type": "code",
   "execution_count": 33,
   "id": "a7a2cf54",
   "metadata": {},
   "outputs": [
    {
     "data": {
      "text/plain": [
       "'E and D and C and B and A'"
      ]
     },
     "execution_count": 33,
     "metadata": {},
     "output_type": "execute_result"
    }
   ],
   "source": [
    "' and '.join(letters)"
   ]
  },
  {
   "cell_type": "code",
   "execution_count": 40,
   "id": "b66eb044",
   "metadata": {},
   "outputs": [],
   "source": [
    "turing = \"Born in Maida Vale, London, Turing was raised in southern England. He graduated from King's College, Cambridge, with a degree in mathematics. Whilst he was a fellow at Cambridge, he published a proof demonstrating that some purely mathematical yes–no questions can never be answered by computation. He defined a Turing machine and proved that the halting problem for Turing machines is undecidable. In 1938, he earned his PhD from the Department of Mathematics at Princeton University.\""
   ]
  },
  {
   "cell_type": "code",
   "execution_count": 35,
   "id": "9cfcaa05",
   "metadata": {},
   "outputs": [
    {
     "data": {
      "text/plain": [
       "\"Born in Maida Vale, London, Turing was raised in southern England. He graduated from King's College, Cambridge, with a degree in mathematics. Whilst he was a fellow at Cambridge, he published a proof demonstrating that some purely mathematical yes–no questions can never be answered by computation. He defined a Turing machine and proved that the halting problem for Turing machines is undecidable. In 1938, he earned his PhD from the Department of Mathematics at Princeton University.\""
      ]
     },
     "execution_count": 35,
     "metadata": {},
     "output_type": "execute_result"
    }
   ],
   "source": [
    "turing"
   ]
  },
  {
   "cell_type": "code",
   "execution_count": 36,
   "id": "c94f45c0",
   "metadata": {},
   "outputs": [],
   "source": [
    "turing = turing.rsplit(' ')"
   ]
  },
  {
   "cell_type": "code",
   "execution_count": 41,
   "id": "4e7f763c",
   "metadata": {},
   "outputs": [
    {
     "data": {
      "text/plain": [
       "485"
      ]
     },
     "execution_count": 41,
     "metadata": {},
     "output_type": "execute_result"
    }
   ],
   "source": [
    "len(turing)"
   ]
  },
  {
   "cell_type": "code",
   "execution_count": 42,
   "id": "c6cb8635",
   "metadata": {},
   "outputs": [
    {
     "data": {
      "text/plain": [
       "False"
      ]
     },
     "execution_count": 42,
     "metadata": {},
     "output_type": "execute_result"
    }
   ],
   "source": [
    "False"
   ]
  },
  {
   "cell_type": "code",
   "execution_count": 44,
   "id": "260cc3a8",
   "metadata": {},
   "outputs": [
    {
     "data": {
      "text/plain": [
       "bool"
      ]
     },
     "execution_count": 44,
     "metadata": {},
     "output_type": "execute_result"
    }
   ],
   "source": [
    "type(True)"
   ]
  },
  {
   "cell_type": "code",
   "execution_count": 45,
   "id": "e1bdd416",
   "metadata": {},
   "outputs": [
    {
     "data": {
      "text/plain": [
       "str"
      ]
     },
     "execution_count": 45,
     "metadata": {},
     "output_type": "execute_result"
    }
   ],
   "source": [
    "type(my_string)"
   ]
  },
  {
   "cell_type": "code",
   "execution_count": 50,
   "id": "c3391152",
   "metadata": {},
   "outputs": [
    {
     "data": {
      "text/plain": [
       "int"
      ]
     },
     "execution_count": 50,
     "metadata": {},
     "output_type": "execute_result"
    }
   ],
   "source": [
    "type(numbers[0])"
   ]
  },
  {
   "cell_type": "code",
   "execution_count": 1,
   "id": "6ae5b96a",
   "metadata": {},
   "outputs": [
    {
     "name": "stdout",
     "output_type": "stream",
     "text": [
      "Help on class str in module builtins:\n",
      "\n",
      "class str(object)\n",
      " |  str(object='') -> str\n",
      " |  str(bytes_or_buffer[, encoding[, errors]]) -> str\n",
      " |  \n",
      " |  Create a new string object from the given object. If encoding or\n",
      " |  errors is specified, then the object must expose a data buffer\n",
      " |  that will be decoded using the given encoding and error handler.\n",
      " |  Otherwise, returns the result of object.__str__() (if defined)\n",
      " |  or repr(object).\n",
      " |  encoding defaults to sys.getdefaultencoding().\n",
      " |  errors defaults to 'strict'.\n",
      " |  \n",
      " |  Methods defined here:\n",
      " |  \n",
      " |  __add__(self, value, /)\n",
      " |      Return self+value.\n",
      " |  \n",
      " |  __contains__(self, key, /)\n",
      " |      Return key in self.\n",
      " |  \n",
      " |  __eq__(self, value, /)\n",
      " |      Return self==value.\n",
      " |  \n",
      " |  __format__(self, format_spec, /)\n",
      " |      Return a formatted version of the string as described by format_spec.\n",
      " |  \n",
      " |  __ge__(self, value, /)\n",
      " |      Return self>=value.\n",
      " |  \n",
      " |  __getattribute__(self, name, /)\n",
      " |      Return getattr(self, name).\n",
      " |  \n",
      " |  __getitem__(self, key, /)\n",
      " |      Return self[key].\n",
      " |  \n",
      " |  __getnewargs__(...)\n",
      " |  \n",
      " |  __gt__(self, value, /)\n",
      " |      Return self>value.\n",
      " |  \n",
      " |  __hash__(self, /)\n",
      " |      Return hash(self).\n",
      " |  \n",
      " |  __iter__(self, /)\n",
      " |      Implement iter(self).\n",
      " |  \n",
      " |  __le__(self, value, /)\n",
      " |      Return self<=value.\n",
      " |  \n",
      " |  __len__(self, /)\n",
      " |      Return len(self).\n",
      " |  \n",
      " |  __lt__(self, value, /)\n",
      " |      Return self<value.\n",
      " |  \n",
      " |  __mod__(self, value, /)\n",
      " |      Return self%value.\n",
      " |  \n",
      " |  __mul__(self, value, /)\n",
      " |      Return self*value.\n",
      " |  \n",
      " |  __ne__(self, value, /)\n",
      " |      Return self!=value.\n",
      " |  \n",
      " |  __repr__(self, /)\n",
      " |      Return repr(self).\n",
      " |  \n",
      " |  __rmod__(self, value, /)\n",
      " |      Return value%self.\n",
      " |  \n",
      " |  __rmul__(self, value, /)\n",
      " |      Return value*self.\n",
      " |  \n",
      " |  __sizeof__(self, /)\n",
      " |      Return the size of the string in memory, in bytes.\n",
      " |  \n",
      " |  __str__(self, /)\n",
      " |      Return str(self).\n",
      " |  \n",
      " |  capitalize(self, /)\n",
      " |      Return a capitalized version of the string.\n",
      " |      \n",
      " |      More specifically, make the first character have upper case and the rest lower\n",
      " |      case.\n",
      " |  \n",
      " |  casefold(self, /)\n",
      " |      Return a version of the string suitable for caseless comparisons.\n",
      " |  \n",
      " |  center(self, width, fillchar=' ', /)\n",
      " |      Return a centered string of length width.\n",
      " |      \n",
      " |      Padding is done using the specified fill character (default is a space).\n",
      " |  \n",
      " |  count(...)\n",
      " |      S.count(sub[, start[, end]]) -> int\n",
      " |      \n",
      " |      Return the number of non-overlapping occurrences of substring sub in\n",
      " |      string S[start:end].  Optional arguments start and end are\n",
      " |      interpreted as in slice notation.\n",
      " |  \n",
      " |  encode(self, /, encoding='utf-8', errors='strict')\n",
      " |      Encode the string using the codec registered for encoding.\n",
      " |      \n",
      " |      encoding\n",
      " |        The encoding in which to encode the string.\n",
      " |      errors\n",
      " |        The error handling scheme to use for encoding errors.\n",
      " |        The default is 'strict' meaning that encoding errors raise a\n",
      " |        UnicodeEncodeError.  Other possible values are 'ignore', 'replace' and\n",
      " |        'xmlcharrefreplace' as well as any other name registered with\n",
      " |        codecs.register_error that can handle UnicodeEncodeErrors.\n",
      " |  \n",
      " |  endswith(...)\n",
      " |      S.endswith(suffix[, start[, end]]) -> bool\n",
      " |      \n",
      " |      Return True if S ends with the specified suffix, False otherwise.\n",
      " |      With optional start, test S beginning at that position.\n",
      " |      With optional end, stop comparing S at that position.\n",
      " |      suffix can also be a tuple of strings to try.\n",
      " |  \n",
      " |  expandtabs(self, /, tabsize=8)\n",
      " |      Return a copy where all tab characters are expanded using spaces.\n",
      " |      \n",
      " |      If tabsize is not given, a tab size of 8 characters is assumed.\n",
      " |  \n",
      " |  find(...)\n",
      " |      S.find(sub[, start[, end]]) -> int\n",
      " |      \n",
      " |      Return the lowest index in S where substring sub is found,\n",
      " |      such that sub is contained within S[start:end].  Optional\n",
      " |      arguments start and end are interpreted as in slice notation.\n",
      " |      \n",
      " |      Return -1 on failure.\n",
      " |  \n",
      " |  format(...)\n",
      " |      S.format(*args, **kwargs) -> str\n",
      " |      \n",
      " |      Return a formatted version of S, using substitutions from args and kwargs.\n",
      " |      The substitutions are identified by braces ('{' and '}').\n",
      " |  \n",
      " |  format_map(...)\n",
      " |      S.format_map(mapping) -> str\n",
      " |      \n",
      " |      Return a formatted version of S, using substitutions from mapping.\n",
      " |      The substitutions are identified by braces ('{' and '}').\n",
      " |  \n",
      " |  index(...)\n",
      " |      S.index(sub[, start[, end]]) -> int\n",
      " |      \n",
      " |      Return the lowest index in S where substring sub is found,\n",
      " |      such that sub is contained within S[start:end].  Optional\n",
      " |      arguments start and end are interpreted as in slice notation.\n",
      " |      \n",
      " |      Raises ValueError when the substring is not found.\n",
      " |  \n",
      " |  isalnum(self, /)\n",
      " |      Return True if the string is an alpha-numeric string, False otherwise.\n",
      " |      \n",
      " |      A string is alpha-numeric if all characters in the string are alpha-numeric and\n",
      " |      there is at least one character in the string.\n",
      " |  \n",
      " |  isalpha(self, /)\n",
      " |      Return True if the string is an alphabetic string, False otherwise.\n",
      " |      \n",
      " |      A string is alphabetic if all characters in the string are alphabetic and there\n",
      " |      is at least one character in the string.\n",
      " |  \n",
      " |  isascii(self, /)\n",
      " |      Return True if all characters in the string are ASCII, False otherwise.\n",
      " |      \n",
      " |      ASCII characters have code points in the range U+0000-U+007F.\n",
      " |      Empty string is ASCII too.\n",
      " |  \n",
      " |  isdecimal(self, /)\n",
      " |      Return True if the string is a decimal string, False otherwise.\n",
      " |      \n",
      " |      A string is a decimal string if all characters in the string are decimal and\n",
      " |      there is at least one character in the string.\n",
      " |  \n",
      " |  isdigit(self, /)\n",
      " |      Return True if the string is a digit string, False otherwise.\n",
      " |      \n",
      " |      A string is a digit string if all characters in the string are digits and there\n",
      " |      is at least one character in the string.\n",
      " |  \n",
      " |  isidentifier(self, /)\n",
      " |      Return True if the string is a valid Python identifier, False otherwise.\n",
      " |      \n",
      " |      Call keyword.iskeyword(s) to test whether string s is a reserved identifier,\n",
      " |      such as \"def\" or \"class\".\n",
      " |  \n",
      " |  islower(self, /)\n",
      " |      Return True if the string is a lowercase string, False otherwise.\n",
      " |      \n",
      " |      A string is lowercase if all cased characters in the string are lowercase and\n",
      " |      there is at least one cased character in the string.\n",
      " |  \n",
      " |  isnumeric(self, /)\n",
      " |      Return True if the string is a numeric string, False otherwise.\n",
      " |      \n",
      " |      A string is numeric if all characters in the string are numeric and there is at\n",
      " |      least one character in the string.\n",
      " |  \n",
      " |  isprintable(self, /)\n",
      " |      Return True if the string is printable, False otherwise.\n",
      " |      \n",
      " |      A string is printable if all of its characters are considered printable in\n",
      " |      repr() or if it is empty.\n",
      " |  \n",
      " |  isspace(self, /)\n",
      " |      Return True if the string is a whitespace string, False otherwise.\n",
      " |      \n",
      " |      A string is whitespace if all characters in the string are whitespace and there\n",
      " |      is at least one character in the string.\n",
      " |  \n",
      " |  istitle(self, /)\n",
      " |      Return True if the string is a title-cased string, False otherwise.\n",
      " |      \n",
      " |      In a title-cased string, upper- and title-case characters may only\n",
      " |      follow uncased characters and lowercase characters only cased ones.\n",
      " |  \n",
      " |  isupper(self, /)\n",
      " |      Return True if the string is an uppercase string, False otherwise.\n",
      " |      \n",
      " |      A string is uppercase if all cased characters in the string are uppercase and\n",
      " |      there is at least one cased character in the string.\n",
      " |  \n",
      " |  join(self, iterable, /)\n",
      " |      Concatenate any number of strings.\n",
      " |      \n",
      " |      The string whose method is called is inserted in between each given string.\n",
      " |      The result is returned as a new string.\n",
      " |      \n",
      " |      Example: '.'.join(['ab', 'pq', 'rs']) -> 'ab.pq.rs'\n",
      " |  \n",
      " |  ljust(self, width, fillchar=' ', /)\n",
      " |      Return a left-justified string of length width.\n",
      " |      \n",
      " |      Padding is done using the specified fill character (default is a space).\n",
      " |  \n",
      " |  lower(self, /)\n",
      " |      Return a copy of the string converted to lowercase.\n",
      " |  \n",
      " |  lstrip(self, chars=None, /)\n",
      " |      Return a copy of the string with leading whitespace removed.\n",
      " |      \n",
      " |      If chars is given and not None, remove characters in chars instead.\n",
      " |  \n",
      " |  partition(self, sep, /)\n",
      " |      Partition the string into three parts using the given separator.\n",
      " |      \n",
      " |      This will search for the separator in the string.  If the separator is found,\n",
      " |      returns a 3-tuple containing the part before the separator, the separator\n",
      " |      itself, and the part after it.\n",
      " |      \n",
      " |      If the separator is not found, returns a 3-tuple containing the original string\n",
      " |      and two empty strings.\n",
      " |  \n",
      " |  replace(self, old, new, count=-1, /)\n",
      " |      Return a copy with all occurrences of substring old replaced by new.\n",
      " |      \n",
      " |        count\n",
      " |          Maximum number of occurrences to replace.\n",
      " |          -1 (the default value) means replace all occurrences.\n",
      " |      \n",
      " |      If the optional argument count is given, only the first count occurrences are\n",
      " |      replaced.\n",
      " |  \n",
      " |  rfind(...)\n",
      " |      S.rfind(sub[, start[, end]]) -> int\n",
      " |      \n",
      " |      Return the highest index in S where substring sub is found,\n",
      " |      such that sub is contained within S[start:end].  Optional\n",
      " |      arguments start and end are interpreted as in slice notation.\n",
      " |      \n",
      " |      Return -1 on failure.\n",
      " |  \n",
      " |  rindex(...)\n",
      " |      S.rindex(sub[, start[, end]]) -> int\n",
      " |      \n",
      " |      Return the highest index in S where substring sub is found,\n",
      " |      such that sub is contained within S[start:end].  Optional\n",
      " |      arguments start and end are interpreted as in slice notation.\n",
      " |      \n",
      " |      Raises ValueError when the substring is not found.\n",
      " |  \n",
      " |  rjust(self, width, fillchar=' ', /)\n",
      " |      Return a right-justified string of length width.\n",
      " |      \n",
      " |      Padding is done using the specified fill character (default is a space).\n",
      " |  \n",
      " |  rpartition(self, sep, /)\n",
      " |      Partition the string into three parts using the given separator.\n",
      " |      \n",
      " |      This will search for the separator in the string, starting at the end. If\n",
      " |      the separator is found, returns a 3-tuple containing the part before the\n",
      " |      separator, the separator itself, and the part after it.\n",
      " |      \n",
      " |      If the separator is not found, returns a 3-tuple containing two empty strings\n",
      " |      and the original string.\n",
      " |  \n",
      " |  rsplit(self, /, sep=None, maxsplit=-1)\n",
      " |      Return a list of the words in the string, using sep as the delimiter string.\n",
      " |      \n",
      " |        sep\n",
      " |          The delimiter according which to split the string.\n",
      " |          None (the default value) means split according to any whitespace,\n",
      " |          and discard empty strings from the result.\n",
      " |        maxsplit\n",
      " |          Maximum number of splits to do.\n",
      " |          -1 (the default value) means no limit.\n",
      " |      \n",
      " |      Splits are done starting at the end of the string and working to the front.\n",
      " |  \n",
      " |  rstrip(self, chars=None, /)\n",
      " |      Return a copy of the string with trailing whitespace removed.\n",
      " |      \n",
      " |      If chars is given and not None, remove characters in chars instead.\n",
      " |  \n",
      " |  split(self, /, sep=None, maxsplit=-1)\n",
      " |      Return a list of the words in the string, using sep as the delimiter string.\n",
      " |      \n",
      " |      sep\n",
      " |        The delimiter according which to split the string.\n",
      " |        None (the default value) means split according to any whitespace,\n",
      " |        and discard empty strings from the result.\n",
      " |      maxsplit\n",
      " |        Maximum number of splits to do.\n",
      " |        -1 (the default value) means no limit.\n",
      " |  \n",
      " |  splitlines(self, /, keepends=False)\n",
      " |      Return a list of the lines in the string, breaking at line boundaries.\n",
      " |      \n",
      " |      Line breaks are not included in the resulting list unless keepends is given and\n",
      " |      true.\n",
      " |  \n",
      " |  startswith(...)\n",
      " |      S.startswith(prefix[, start[, end]]) -> bool\n",
      " |      \n",
      " |      Return True if S starts with the specified prefix, False otherwise.\n",
      " |      With optional start, test S beginning at that position.\n",
      " |      With optional end, stop comparing S at that position.\n",
      " |      prefix can also be a tuple of strings to try.\n",
      " |  \n",
      " |  strip(self, chars=None, /)\n",
      " |      Return a copy of the string with leading and trailing whitespace removed.\n",
      " |      \n",
      " |      If chars is given and not None, remove characters in chars instead.\n",
      " |  \n",
      " |  swapcase(self, /)\n",
      " |      Convert uppercase characters to lowercase and lowercase characters to uppercase.\n",
      " |  \n",
      " |  title(self, /)\n",
      " |      Return a version of the string where each word is titlecased.\n",
      " |      \n",
      " |      More specifically, words start with uppercased characters and all remaining\n",
      " |      cased characters have lower case.\n",
      " |  \n",
      " |  translate(self, table, /)\n",
      " |      Replace each character in the string using the given translation table.\n",
      " |      \n",
      " |        table\n",
      " |          Translation table, which must be a mapping of Unicode ordinals to\n",
      " |          Unicode ordinals, strings, or None.\n",
      " |      \n",
      " |      The table must implement lookup/indexing via __getitem__, for instance a\n",
      " |      dictionary or list.  If this operation raises LookupError, the character is\n",
      " |      left untouched.  Characters mapped to None are deleted.\n",
      " |  \n",
      " |  upper(self, /)\n",
      " |      Return a copy of the string converted to uppercase.\n",
      " |  \n",
      " |  zfill(self, width, /)\n",
      " |      Pad a numeric string with zeros on the left, to fill a field of the given width.\n",
      " |      \n",
      " |      The string is never truncated.\n",
      " |  \n",
      " |  ----------------------------------------------------------------------\n",
      " |  Static methods defined here:\n",
      " |  \n",
      " |  __new__(*args, **kwargs) from builtins.type\n",
      " |      Create and return a new object.  See help(type) for accurate signature.\n",
      " |  \n",
      " |  maketrans(...)\n",
      " |      Return a translation table usable for str.translate().\n",
      " |      \n",
      " |      If there is only one argument, it must be a dictionary mapping Unicode\n",
      " |      ordinals (integers) or characters to Unicode ordinals, strings or None.\n",
      " |      Character keys will be then converted to ordinals.\n",
      " |      If there are two arguments, they must be strings of equal length, and\n",
      " |      in the resulting dictionary, each character in x will be mapped to the\n",
      " |      character at the same position in y. If there is a third argument, it\n",
      " |      must be a string, whose characters will be mapped to None in the result.\n",
      "\n"
     ]
    }
   ],
   "source": [
    "help(str)"
   ]
  },
  {
   "cell_type": "markdown",
   "id": "3b53a1db",
   "metadata": {},
   "source": [
    "### In programming, any time we want to do a task that we know we will do repeatedly, we encode the instructions for that task into something called a function. Functions can be *defined* ahead of time, and then *called* whenver you are ready to use it. When we create a data type in programming we describe to the computer everything about that data type (how to refer to it, how to combine it with similar data etc.) in something called a *class*. Whenever you define a class, you can create very specific functions that work on that class, and these special functions are called *methods*\n",
    "\n",
    "### To ask for help on a specific method for a datatype (i.e. a class), you need to do help(\\<class\\>.method)\n",
    "    "
   ]
  },
  {
   "cell_type": "code",
   "execution_count": 4,
   "id": "919963db",
   "metadata": {},
   "outputs": [
    {
     "name": "stdout",
     "output_type": "stream",
     "text": [
      "Help on method_descriptor:\n",
      "\n",
      "isalpha(self, /)\n",
      "    Return True if the string is an alphabetic string, False otherwise.\n",
      "    \n",
      "    A string is alphabetic if all characters in the string are alphabetic and there\n",
      "    is at least one character in the string.\n",
      "\n"
     ]
    }
   ],
   "source": [
    "help(str.isalpha)"
   ]
  },
  {
   "cell_type": "markdown",
   "id": "4c1edcad",
   "metadata": {},
   "source": [
    "### Let's test it out!"
   ]
  },
  {
   "cell_type": "code",
   "execution_count": 10,
   "id": "fab1909f",
   "metadata": {},
   "outputs": [
    {
     "name": "stdout",
     "output_type": "stream",
     "text": [
      "test_str1 is alphabetic: True\n",
      "test_str2 is alphabetic: False\n"
     ]
    }
   ],
   "source": [
    "test_str1 = 'AFDFEGWREWBRFVREW'\n",
    "test_str2 = 'AFDFEGW443EWBRFVREW'\n",
    "\n",
    "print(\"test_str1 is alphabetic:\", test_str1.isalpha())\n",
    "print(\"test_str2 is alphabetic:\", test_str2.isalpha())"
   ]
  },
  {
   "cell_type": "markdown",
   "id": "4f1ba72e",
   "metadata": {},
   "source": [
    "### Recall that strings are treated very similar to lists in Python (although they really are distinct data types), so it shouldn't be a surprise that we can slice strings just like we do with lists"
   ]
  },
  {
   "cell_type": "code",
   "execution_count": 11,
   "id": "66200d1a",
   "metadata": {},
   "outputs": [],
   "source": [
    "test_str  = 'Here is a string for us to test slicing with.'"
   ]
  },
  {
   "cell_type": "code",
   "execution_count": 12,
   "id": "55b33b84",
   "metadata": {},
   "outputs": [
    {
     "data": {
      "text/plain": [
       "'e '"
      ]
     },
     "execution_count": 12,
     "metadata": {},
     "output_type": "execute_result"
    }
   ],
   "source": [
    "test_str[3:5]"
   ]
  },
  {
   "cell_type": "code",
   "execution_count": 13,
   "id": "461c327d",
   "metadata": {},
   "outputs": [
    {
     "data": {
      "text/plain": [
       "'Here '"
      ]
     },
     "execution_count": 13,
     "metadata": {},
     "output_type": "execute_result"
    }
   ],
   "source": [
    "test_str[:5]"
   ]
  },
  {
   "cell_type": "markdown",
   "id": "8cb54676",
   "metadata": {},
   "source": [
    "### We can even reverse strings the same way we reverse lists"
   ]
  },
  {
   "cell_type": "code",
   "execution_count": 14,
   "id": "c8bc4eb5",
   "metadata": {},
   "outputs": [
    {
     "data": {
      "text/plain": [
       "'.htiw gnicils tset ot su rof gnirts a si ereH'"
      ]
     },
     "execution_count": 14,
     "metadata": {},
     "output_type": "execute_result"
    }
   ],
   "source": [
    "test_str[::-1]"
   ]
  },
  {
   "cell_type": "markdown",
   "id": "63e8bc4d",
   "metadata": {},
   "source": [
    "### Here's a cool method to find a specific word and return the index of the beginning of the *first* instance of that word int the string:"
   ]
  },
  {
   "cell_type": "code",
   "execution_count": 15,
   "id": "a238338e",
   "metadata": {},
   "outputs": [
    {
     "data": {
      "text/plain": [
       "32"
      ]
     },
     "execution_count": 15,
     "metadata": {},
     "output_type": "execute_result"
    }
   ],
   "source": [
    "test_str.index('slicing')"
   ]
  },
  {
   "cell_type": "markdown",
   "id": "339bc4e9",
   "metadata": {},
   "source": [
    "### So now we know that the 's' in \"slicing\" is at index 32 in our string and we can do this:"
   ]
  },
  {
   "cell_type": "code",
   "execution_count": 16,
   "id": "130417da",
   "metadata": {},
   "outputs": [
    {
     "data": {
      "text/plain": [
       "'slicing with.'"
      ]
     },
     "execution_count": 16,
     "metadata": {},
     "output_type": "execute_result"
    }
   ],
   "source": [
    "test_str[32:]"
   ]
  },
  {
   "cell_type": "code",
   "execution_count": 2,
   "id": "60e7d720",
   "metadata": {},
   "outputs": [
    {
     "ename": "SyntaxError",
     "evalue": "invalid syntax (1641284142.py, line 1)",
     "output_type": "error",
     "traceback": [
      "\u001b[1;36m  Cell \u001b[1;32mIn[2], line 1\u001b[1;36m\u001b[0m\n\u001b[1;33m    print(\"And then he said, \"Hello\".\")\u001b[0m\n\u001b[1;37m                              ^\u001b[0m\n\u001b[1;31mSyntaxError\u001b[0m\u001b[1;31m:\u001b[0m invalid syntax\n"
     ]
    }
   ],
   "source": [
    "print(\"And then he said, \"Hello\".\")"
   ]
  },
  {
   "cell_type": "code",
   "execution_count": 5,
   "id": "46a3b541",
   "metadata": {},
   "outputs": [
    {
     "name": "stdout",
     "output_type": "stream",
     "text": [
      "And then he said, \"Hello\".\n"
     ]
    }
   ],
   "source": [
    "print('And then he said, \"Hello\".')"
   ]
  },
  {
   "cell_type": "code",
   "execution_count": 6,
   "id": "50f82882",
   "metadata": {},
   "outputs": [
    {
     "name": "stdout",
     "output_type": "stream",
     "text": [
      "And then he said, \"Hello, that's a nice hat\".\n"
     ]
    }
   ],
   "source": [
    "print('And then he said, \"Hello, that\\'s a nice hat\".')"
   ]
  }
 ],
 "metadata": {
  "kernelspec": {
   "display_name": "Python 3 (ipykernel)",
   "language": "python",
   "name": "python3"
  },
  "language_info": {
   "codemirror_mode": {
    "name": "ipython",
    "version": 3
   },
   "file_extension": ".py",
   "mimetype": "text/x-python",
   "name": "python",
   "nbconvert_exporter": "python",
   "pygments_lexer": "ipython3",
   "version": "3.8.16"
  }
 },
 "nbformat": 4,
 "nbformat_minor": 5
}
