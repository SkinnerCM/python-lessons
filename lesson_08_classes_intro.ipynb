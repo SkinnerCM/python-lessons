{
 "cells": [
  {
   "cell_type": "markdown",
   "id": "1637d138",
   "metadata": {},
   "source": [
    "In Python (and OOP in general), everything is considered data, and we refer to or manipulate this data using **objects**. All objects are **instances** of some data *type*, such as integers, floats, strings, lists, tuples, and more. We can even think of entire blocks of code (like modules, functions, etc.) as objects.\n",
    "\n",
    "Python provides a variety of built-in data types that are useful for various programming needs. However, what if you need a specific, tailor-made data type to ease your programming tasks? Can you make your *own* data type in Python? The answer is yes! In OOP, a data type is generally referred to as a **class**, and you can create your own classes in Python (and other languages).\n",
    "\n",
    "Let's clarify some terminology:\n",
    "\n",
    "**Class** - A *blueprint* that defines a specific object/data type. Classes have *attributes* (data) and *methods* (procedures or functions) that operate on the data for an instance of that class.\n",
    "\n",
    "**Instance** - An actual implementation of a class (i.e., an object). For example, the str class in Python defines how string objects are created, represented, and manipulated. When we write x = 'Hello', we create an actual instance of a string. A real-world analogy of a class would be the design for a 2020 Ford Mustang used by the factory to make the car, while an instance of that design would be an actual 2020 Ford Mustang car that physically exists.\n",
    "\n",
    "**Object** - Any specific instance of a class stored in memory (RAM). It contains both data (attributes) and methods (functions) defined by its class."
   ]
  },
  {
   "cell_type": "markdown",
   "id": "db9ebcf7",
   "metadata": {},
   "source": [
    "## Let's create our own class \n",
    "\n",
    "We'll call it 'Employee' and it will contain several attributes that you might want to store for an actual employee at a company. Note that the Employee class does not create any data, it just provides instructions for what attributes you need when you *do* create data for an actual employee. "
   ]
  },
  {
   "cell_type": "code",
   "execution_count": 23,
   "id": "f016ab77",
   "metadata": {},
   "outputs": [],
   "source": [
    "class Employee(object):\n",
    "    \n",
    "    #must define a way to initialize an instance of the class. We do this with the __init__ method\n",
    "    def __init__(self, name, ID, pay_rate, birthdate):\n",
    "        \n",
    "        self.Name = name\n",
    "        self.ID = ID\n",
    "        self.Pay = pay_rate\n",
    "        self.BD = birthdate\n",
    "     \n",
    "    # The __repr__ method is a data attribute which defines how a particular instance of the \n",
    "    # class will be represented to the user\n",
    "    def __repr__(self):\n",
    "        \n",
    "        return(f'Name: {self.Name} \\nID: {self.ID} \\nPay rate: {self.Pay} \\nDOB: {self.BD}')\n",
    "    \n",
    "    def __eq__(self, other):\n",
    "        \n",
    "        if self.Name == other.Name and self.ID == other.ID and self.Pay == other.Pay and self.BD == other.BD:\n",
    "        \n",
    "            return(True)\n",
    "        else:\n",
    "            return(False)"
   ]
  },
  {
   "cell_type": "markdown",
   "id": "e8b9d5bc",
   "metadata": {},
   "source": [
    "The **\\__eq__** \"dunder\" (\"double_underscore\") method provides a definition for how to tell \n",
    "if two employee records are actually the same, i.e. equal. It allows us to use the built-in \"=\" symbol to compare\n",
    "instances of employees. In other words, \"employee_A==emplpoyee_B\" will be defined and Python will be able to process\n",
    "the line without error. If we do not define what it means for two employee datatypes to be equal, Python will throw an error because it does a priori not know how to make comparisons between ad hoc data types. "
   ]
  },
  {
   "cell_type": "code",
   "execution_count": 24,
   "id": "fa70c1cd",
   "metadata": {},
   "outputs": [],
   "source": [
    "Jennifer = Employee('Jennifer', '001', 60000, '02/28/1975')"
   ]
  },
  {
   "cell_type": "code",
   "execution_count": 25,
   "id": "c9e1745b",
   "metadata": {},
   "outputs": [
    {
     "data": {
      "text/plain": [
       "Name: Jennifer \n",
       "ID: 001 \n",
       "Pay rate: 60000 \n",
       "DOB: 02/28/1975"
      ]
     },
     "execution_count": 25,
     "metadata": {},
     "output_type": "execute_result"
    }
   ],
   "source": [
    "Jennifer"
   ]
  },
  {
   "cell_type": "code",
   "execution_count": 26,
   "id": "cfc573ee",
   "metadata": {},
   "outputs": [],
   "source": [
    "chuck = Employee('Chuck', 7, 50000, '01/01/1975')"
   ]
  },
  {
   "cell_type": "markdown",
   "id": "e96c5395",
   "metadata": {},
   "source": [
    "### Let's see what happens if we make a very similar, but not same, employee as chuck:"
   ]
  },
  {
   "cell_type": "code",
   "execution_count": 30,
   "id": "1f80bf43",
   "metadata": {},
   "outputs": [],
   "source": [
    "chuck1 = Employee('Chuckk', 7, 50000, '01/01/1975')"
   ]
  },
  {
   "cell_type": "code",
   "execution_count": 31,
   "id": "636bcebf",
   "metadata": {},
   "outputs": [
    {
     "data": {
      "text/plain": [
       "False"
      ]
     },
     "execution_count": 31,
     "metadata": {},
     "output_type": "execute_result"
    }
   ],
   "source": [
    "chuck==chuck1"
   ]
  },
  {
   "cell_type": "markdown",
   "id": "5c0a0150",
   "metadata": {},
   "source": [
    "Of course, we can choose to create some leniency for certain attributes when defining the \\__eq__ method by not requiring that particular attribute be equivalent"
   ]
  },
  {
   "cell_type": "code",
   "execution_count": 32,
   "id": "4aa67de0",
   "metadata": {},
   "outputs": [],
   "source": [
    "class Employee(object):\n",
    "    \n",
    "    #must define a way to initialize an instance of the class. We do this with the __init__ method\n",
    "    def __init__(self, name, ID, pay_rate, birthdate):\n",
    "        \n",
    "        self.Name = name\n",
    "        self.ID = ID\n",
    "        self.Pay = pay_rate\n",
    "        self.BD = birthdate\n",
    "     \n",
    "    # The __repr__ method is a data attribute which defines how a particular instance of the \n",
    "    # class will be represented to the user\n",
    "    def __repr__(self):\n",
    "        \n",
    "        return(f'Name: {self.Name} \\nID: {self.ID} \\nPay rate: {self.Pay} \\nDOB: {self.BD}')\n",
    "    \n",
    "    def __eq__(self, other):\n",
    "        \n",
    "        # Note the difference with the previous definition of the Employee class. Here, we're not requiring that the name \n",
    "        # attributes between self and other be equivalent\n",
    "        if self.ID == other.ID and self.Pay == other.Pay and self.BD == other.BD:\n",
    "        \n",
    "            return(True)\n",
    "        else:\n",
    "            return(False)"
   ]
  },
  {
   "cell_type": "code",
   "execution_count": 33,
   "id": "0658f516",
   "metadata": {},
   "outputs": [
    {
     "data": {
      "text/plain": [
       "True"
      ]
     },
     "execution_count": 33,
     "metadata": {},
     "output_type": "execute_result"
    }
   ],
   "source": [
    "chuck = Employee('Chuck', 7, 50000, '01/01/1975')\n",
    "chuck1 = Employee('Chuckk', 7, 50000, '01/01/1975')\n",
    "chuck==chuck1"
   ]
  },
  {
   "cell_type": "markdown",
   "id": "c665a015",
   "metadata": {},
   "source": [
    "### Now, we see that for our definition of equality between employee objects, chuck and chuck1 are seen as equivalent, despite having different name attributes."
   ]
  },
  {
   "cell_type": "markdown",
   "id": "f2384466",
   "metadata": {},
   "source": [
    "What exactly are these double-underscore (\"dunder\") methods? Python has some built-in, special (sometimes called \"magic\") methods which internally link symbols, such as '+', '-', '\\*', or '==' to specific operations/methods such as __add__, __sub__, __mul__, __eq__ in the \"Main\" class, in which all instances of Python are running. Additionally, there are other dunder methods for things like print (__str__)"
   ]
  },
  {
   "cell_type": "markdown",
   "id": "24201abb",
   "metadata": {},
   "source": [
    "There is no built-in way to deal with 2-D vectors in Python (although you could just use the Numpy library, but let's pretend we don't know about it). Let's create our own vector class, which tells Python how to create instances of vectors, how to add them, how to subtract, how to multiply them, how to get the vector direction, and how to get its magnitude."
   ]
  },
  {
   "cell_type": "code",
   "execution_count": 1,
   "id": "ab3c97a3",
   "metadata": {},
   "outputs": [],
   "source": [
    "class Vector(object):\n",
    "    \n",
    "    def __init__(self, x_in, y_in):\n",
    "        \n",
    "        self.x = x_in\n",
    "        self.y = y_in\n",
    "            "
   ]
  },
  {
   "cell_type": "code",
   "execution_count": 12,
   "id": "02c357e9",
   "metadata": {},
   "outputs": [],
   "source": [
    "v = Vector(1,2)\n",
    "w = Vector(-1,-2)"
   ]
  },
  {
   "cell_type": "code",
   "execution_count": 7,
   "id": "29adf299",
   "metadata": {},
   "outputs": [
    {
     "data": {
      "text/plain": [
       "<__main__.Vector at 0x1a752fc2548>"
      ]
     },
     "execution_count": 7,
     "metadata": {},
     "output_type": "execute_result"
    }
   ],
   "source": [
    "v"
   ]
  },
  {
   "cell_type": "code",
   "execution_count": 8,
   "id": "eeb392a7",
   "metadata": {},
   "outputs": [
    {
     "data": {
      "text/plain": [
       "1"
      ]
     },
     "execution_count": 8,
     "metadata": {},
     "output_type": "execute_result"
    }
   ],
   "source": [
    "v.x"
   ]
  },
  {
   "cell_type": "code",
   "execution_count": 9,
   "id": "e9021fae",
   "metadata": {},
   "outputs": [
    {
     "ename": "TypeError",
     "evalue": "unsupported operand type(s) for +: 'Vector' and 'Vector'",
     "output_type": "error",
     "traceback": [
      "\u001b[1;31m---------------------------------------------------------------------------\u001b[0m",
      "\u001b[1;31mTypeError\u001b[0m                                 Traceback (most recent call last)",
      "\u001b[1;32m~\\AppData\\Local\\Temp\\ipykernel_21032\\161786740.py\u001b[0m in \u001b[0;36m<module>\u001b[1;34m\u001b[0m\n\u001b[1;32m----> 1\u001b[1;33m \u001b[0mv\u001b[0m\u001b[1;33m+\u001b[0m\u001b[0mw\u001b[0m\u001b[1;33m\u001b[0m\u001b[1;33m\u001b[0m\u001b[0m\n\u001b[0m",
      "\u001b[1;31mTypeError\u001b[0m: unsupported operand type(s) for +: 'Vector' and 'Vector'"
     ]
    }
   ],
   "source": [
    "v+w"
   ]
  },
  {
   "cell_type": "markdown",
   "id": "08723bf6",
   "metadata": {},
   "source": [
    "### Notice here that we get an error when we try to add our two vectors. The reason is that we have not told Python *how* we want two vectors to add together "
   ]
  },
  {
   "cell_type": "code",
   "execution_count": 13,
   "id": "5448501d",
   "metadata": {},
   "outputs": [],
   "source": [
    "class Vector(object):\n",
    "    \n",
    "    def __init__(self, x, y):\n",
    "        \n",
    "        self.x = x\n",
    "        self.y = y\n",
    "        \n",
    "    def __add__(self, other):\n",
    "        \n",
    "        return Vector(self.x+other.x, self.y+other.y)"
   ]
  },
  {
   "cell_type": "code",
   "execution_count": 14,
   "id": "d4a53f88",
   "metadata": {},
   "outputs": [],
   "source": [
    "v = Vector(1,2)\n",
    "w = Vector(-1,-2)"
   ]
  },
  {
   "cell_type": "code",
   "execution_count": 15,
   "id": "4a06b650",
   "metadata": {},
   "outputs": [
    {
     "data": {
      "text/plain": [
       "<__main__.Vector at 0x1a752fcb708>"
      ]
     },
     "execution_count": 15,
     "metadata": {},
     "output_type": "execute_result"
    }
   ],
   "source": [
    "v+w"
   ]
  },
  {
   "cell_type": "markdown",
   "id": "0758b6a5",
   "metadata": {},
   "source": [
    "### Now, we are able to use the '+' operator on two vectors because we've told Python what it means to add two vectors. However, the way in which an instance of a vector is represented to the user leaves a lot to be desired. Currently, if we want to know the components of a vector, we have to explicitly call them. "
   ]
  },
  {
   "cell_type": "code",
   "execution_count": 39,
   "id": "fb5fb138",
   "metadata": {},
   "outputs": [],
   "source": [
    "z = v+w"
   ]
  },
  {
   "cell_type": "code",
   "execution_count": 40,
   "id": "38e3797d",
   "metadata": {},
   "outputs": [
    {
     "data": {
      "text/plain": [
       "0"
      ]
     },
     "execution_count": 40,
     "metadata": {},
     "output_type": "execute_result"
    }
   ],
   "source": [
    "z.x"
   ]
  },
  {
   "cell_type": "code",
   "execution_count": 41,
   "id": "582ca6ff",
   "metadata": {},
   "outputs": [
    {
     "data": {
      "text/plain": [
       "0"
      ]
     },
     "execution_count": 41,
     "metadata": {},
     "output_type": "execute_result"
    }
   ],
   "source": [
    "z.y"
   ]
  },
  {
   "cell_type": "code",
   "execution_count": 42,
   "id": "31e7351d",
   "metadata": {},
   "outputs": [
    {
     "data": {
      "text/plain": [
       "<__main__.Vector at 0x2844d05be48>"
      ]
     },
     "execution_count": 42,
     "metadata": {},
     "output_type": "execute_result"
    }
   ],
   "source": [
    "z"
   ]
  },
  {
   "cell_type": "markdown",
   "id": "2ad4df14",
   "metadata": {},
   "source": [
    "### ^^^ If we want Python to print to the screen something like '(\\<x-compnent\\>, \\<y-component\\> )' then we can do it by using the __repr__ method."
   ]
  },
  {
   "cell_type": "code",
   "execution_count": 16,
   "id": "12fd3032",
   "metadata": {},
   "outputs": [],
   "source": [
    "class Vector(object):\n",
    "    \n",
    "    def __init__(self, x, y):\n",
    "        \n",
    "        self.x = x\n",
    "        self.y = y\n",
    "    \n",
    "    def __repr__(self):\n",
    "        \n",
    "        return(f'<{self.x}, {self.y}>')\n",
    "        \n",
    "    def __add__(self, other):\n",
    "        \n",
    "        return Vector(self.x+other.x, self.y+other.y)"
   ]
  },
  {
   "cell_type": "code",
   "execution_count": 17,
   "id": "4475cd5f",
   "metadata": {},
   "outputs": [],
   "source": [
    "v = Vector(1,2)\n",
    "w = Vector(-1,-2)\n",
    "z = v+w"
   ]
  },
  {
   "cell_type": "code",
   "execution_count": 18,
   "id": "f6efc79a",
   "metadata": {},
   "outputs": [
    {
     "data": {
      "text/plain": [
       "<0, 0>"
      ]
     },
     "execution_count": 18,
     "metadata": {},
     "output_type": "execute_result"
    }
   ],
   "source": [
    "z"
   ]
  },
  {
   "cell_type": "markdown",
   "id": "2d4f1961",
   "metadata": {},
   "source": [
    "### Ahhh, that's better! Now, what if we want to do subtraction between two vectors v and w via the '-' symbol?"
   ]
  },
  {
   "cell_type": "code",
   "execution_count": 19,
   "id": "90797214",
   "metadata": {},
   "outputs": [
    {
     "ename": "TypeError",
     "evalue": "unsupported operand type(s) for -: 'Vector' and 'Vector'",
     "output_type": "error",
     "traceback": [
      "\u001b[1;31m---------------------------------------------------------------------------\u001b[0m",
      "\u001b[1;31mTypeError\u001b[0m                                 Traceback (most recent call last)",
      "\u001b[1;32m~\\AppData\\Local\\Temp\\ipykernel_21032\\66094607.py\u001b[0m in \u001b[0;36m<module>\u001b[1;34m\u001b[0m\n\u001b[1;32m----> 1\u001b[1;33m \u001b[0mv\u001b[0m\u001b[1;33m-\u001b[0m\u001b[0mw\u001b[0m\u001b[1;33m\u001b[0m\u001b[1;33m\u001b[0m\u001b[0m\n\u001b[0m",
      "\u001b[1;31mTypeError\u001b[0m: unsupported operand type(s) for -: 'Vector' and 'Vector'"
     ]
    }
   ],
   "source": [
    "v-w"
   ]
  },
  {
   "cell_type": "markdown",
   "id": "cff38225",
   "metadata": {},
   "source": [
    "### Womp, womp! Python doesn't have a way of knowing how to do operations on data types we create, remember? We need to tell Python what v-w means."
   ]
  },
  {
   "cell_type": "code",
   "execution_count": 35,
   "id": "ba7731ea",
   "metadata": {},
   "outputs": [],
   "source": [
    "class Vector(object):\n",
    "    \n",
    "    def __init__(self, x, y):\n",
    "        \n",
    "        self.x = x\n",
    "        self.y = y\n",
    "    \n",
    "    def __repr__(self):\n",
    "        \n",
    "        return(f'<{self.x}, {self.y}>')\n",
    "        \n",
    "    def __add__(self, other):\n",
    "        \n",
    "        return Vector(self.x+other.x, self.y+other.y)\n",
    "    \n",
    "    # Specify how to use the '-' symbol on vectors using the built-in __sub__ dunder method\n",
    "    def __sub__(self, other):\n",
    "\n",
    "        return Vector(self.x-other.x, self.y-other.y)\n",
    "    "
   ]
  },
  {
   "cell_type": "code",
   "execution_count": 36,
   "id": "26ad80b4",
   "metadata": {},
   "outputs": [],
   "source": [
    "v = Vector(1,2)\n",
    "w = Vector(-1,-2)\n",
    "z = v+w"
   ]
  },
  {
   "cell_type": "code",
   "execution_count": 37,
   "id": "06057f23",
   "metadata": {},
   "outputs": [
    {
     "data": {
      "text/plain": [
       "<2, 4>"
      ]
     },
     "execution_count": 37,
     "metadata": {},
     "output_type": "execute_result"
    }
   ],
   "source": [
    "v-w"
   ]
  },
  {
   "cell_type": "code",
   "execution_count": 38,
   "id": "035db7e5",
   "metadata": {},
   "outputs": [
    {
     "data": {
      "text/plain": [
       "<-2, -4>"
      ]
     },
     "execution_count": 38,
     "metadata": {},
     "output_type": "execute_result"
    }
   ],
   "source": [
    "w-v"
   ]
  },
  {
   "cell_type": "code",
   "execution_count": 39,
   "id": "40f50def",
   "metadata": {},
   "outputs": [],
   "source": [
    "class Vector(object):\n",
    "    \n",
    "    def __init__(self, x, y):\n",
    "        \n",
    "        self.x = x\n",
    "        self.y = y\n",
    "    \n",
    "    def __repr__(self):\n",
    "        \n",
    "        return(f'<{self.x}, {self.y}>')\n",
    "        \n",
    "    def __add__(self, other):\n",
    "        \n",
    "        return Vector(self.x+other.x, self.y+other.y)\n",
    "    \n",
    "    def __sub__(self, other):\n",
    "\n",
    "        return Vector(self.x-other.x, self.y-other.y)\n",
    "    \n",
    "    def magnitude(self):\n",
    "        \n",
    "        from math import sqrt\n",
    "        \n",
    "        return(sqrt(self.x**2+self.y**2))\n"
   ]
  },
  {
   "cell_type": "code",
   "execution_count": 40,
   "id": "1dc5aca7",
   "metadata": {},
   "outputs": [],
   "source": [
    "v = Vector(3,4)\n",
    "w = Vector(-1,-2)\n",
    "z = v+w"
   ]
  },
  {
   "cell_type": "code",
   "execution_count": 41,
   "id": "de5ffe32",
   "metadata": {},
   "outputs": [
    {
     "data": {
      "text/plain": [
       "5.0"
      ]
     },
     "execution_count": 41,
     "metadata": {},
     "output_type": "execute_result"
    }
   ],
   "source": [
    "v.magnitude()"
   ]
  },
  {
   "cell_type": "code",
   "execution_count": 42,
   "id": "1a93ab6d",
   "metadata": {},
   "outputs": [],
   "source": [
    "class Vector(object):\n",
    "    \n",
    "    def __init__(self, x, y):\n",
    "        \n",
    "        self.x = x\n",
    "        self.y = y\n",
    "    \n",
    "    def __repr__(self):\n",
    "        \n",
    "        return(f'<{self.x}, {self.y}>')\n",
    "        \n",
    "    def __add__(self, other):\n",
    "        \n",
    "        return Vector(self.x+other.x, self.y+other.y)\n",
    "    \n",
    "    def __sub__(self, other):\n",
    "\n",
    "        return Vector(self.x-other.x, self.y-other.y)\n",
    "    \n",
    "    def __mul__(self, c):\n",
    "        \n",
    "        return(Vector(c*self.x, c*self.y))\n",
    "    \n",
    "    def magnitude(self):\n",
    "        \n",
    "        from math import sqrt\n",
    "        \n",
    "        return(sqrt(self.x**2+self.y**2))\n",
    "    \n",
    "    def dot(self, other):\n",
    "        \n",
    "        return(self.x*other.x + self.y*other.y)\n",
    "    \n",
    "    def angle(self, other):\n",
    "        \n",
    "        from math import acos,pi\n",
    "        \n",
    "        mag_u = self.magnitude()\n",
    "        mag_v = other.magnitude()\n",
    "        \n",
    "        dot_prod = self.dot(other)\n",
    "        \n",
    "        theta_rad = acos(dot_prod/(mag_u*mag_v))\n",
    "        \n",
    "        return(round(theta_rad*360/(2*pi)))\n",
    "        \n",
    "        "
   ]
  },
  {
   "cell_type": "code",
   "execution_count": 43,
   "id": "f04aa119",
   "metadata": {},
   "outputs": [],
   "source": [
    "v = Vector(1,0)\n",
    "w = Vector(0,1)\n",
    "z = v+w\n",
    "zz= z+z\n"
   ]
  },
  {
   "cell_type": "code",
   "execution_count": 44,
   "id": "7fa20445",
   "metadata": {},
   "outputs": [
    {
     "data": {
      "text/plain": [
       "<1, 1>"
      ]
     },
     "execution_count": 44,
     "metadata": {},
     "output_type": "execute_result"
    }
   ],
   "source": [
    "z"
   ]
  },
  {
   "cell_type": "code",
   "execution_count": 45,
   "id": "d038df13",
   "metadata": {},
   "outputs": [
    {
     "data": {
      "text/plain": [
       "<2, 2>"
      ]
     },
     "execution_count": 45,
     "metadata": {},
     "output_type": "execute_result"
    }
   ],
   "source": [
    "z*2"
   ]
  },
  {
   "cell_type": "code",
   "execution_count": 46,
   "id": "9ff8c958",
   "metadata": {},
   "outputs": [
    {
     "data": {
      "text/plain": [
       "90"
      ]
     },
     "execution_count": 46,
     "metadata": {},
     "output_type": "execute_result"
    }
   ],
   "source": [
    "v.angle(w)"
   ]
  },
  {
   "cell_type": "code",
   "execution_count": 47,
   "id": "ddb19aaf",
   "metadata": {},
   "outputs": [
    {
     "data": {
      "text/plain": [
       "90"
      ]
     },
     "execution_count": 47,
     "metadata": {},
     "output_type": "execute_result"
    }
   ],
   "source": [
    "w.angle(v)"
   ]
  },
  {
   "cell_type": "code",
   "execution_count": 48,
   "id": "6d264701",
   "metadata": {},
   "outputs": [
    {
     "data": {
      "text/plain": [
       "45"
      ]
     },
     "execution_count": 48,
     "metadata": {},
     "output_type": "execute_result"
    }
   ],
   "source": [
    "z.angle(v)"
   ]
  },
  {
   "cell_type": "code",
   "execution_count": 49,
   "id": "74c62109",
   "metadata": {},
   "outputs": [
    {
     "data": {
      "text/plain": [
       "0"
      ]
     },
     "execution_count": 49,
     "metadata": {},
     "output_type": "execute_result"
    }
   ],
   "source": [
    "z.angle(zz)"
   ]
  },
  {
   "cell_type": "code",
   "execution_count": 50,
   "id": "5ba62dbd",
   "metadata": {},
   "outputs": [
    {
     "name": "stdout",
     "output_type": "stream",
     "text": [
      "Help on built-in function round in module builtins:\n",
      "\n",
      "round(number, ndigits=None)\n",
      "    Round a number to a given precision in decimal digits.\n",
      "    \n",
      "    The return value is an integer if ndigits is omitted or None.  Otherwise\n",
      "    the return value has the same type as the number.  ndigits may be negative.\n",
      "\n"
     ]
    }
   ],
   "source": [
    "help(round)"
   ]
  },
  {
   "cell_type": "code",
   "execution_count": 51,
   "id": "67d0fcd3",
   "metadata": {},
   "outputs": [],
   "source": [
    "v = Vector(1,3)"
   ]
  },
  {
   "cell_type": "code",
   "execution_count": 52,
   "id": "d0c723e0",
   "metadata": {},
   "outputs": [
    {
     "data": {
      "text/plain": [
       "3.1622776601683795"
      ]
     },
     "execution_count": 52,
     "metadata": {},
     "output_type": "execute_result"
    }
   ],
   "source": [
    "v.magnitude()"
   ]
  },
  {
   "cell_type": "code",
   "execution_count": 53,
   "id": "329ec281",
   "metadata": {},
   "outputs": [
    {
     "name": "stdout",
     "output_type": "stream",
     "text": [
      "Help on class float in module builtins:\n",
      "\n",
      "class float(object)\n",
      " |  float(x=0, /)\n",
      " |  \n",
      " |  Convert a string or number to a floating point number, if possible.\n",
      " |  \n",
      " |  Methods defined here:\n",
      " |  \n",
      " |  __abs__(self, /)\n",
      " |      abs(self)\n",
      " |  \n",
      " |  __add__(self, value, /)\n",
      " |      Return self+value.\n",
      " |  \n",
      " |  __bool__(self, /)\n",
      " |      self != 0\n",
      " |  \n",
      " |  __divmod__(self, value, /)\n",
      " |      Return divmod(self, value).\n",
      " |  \n",
      " |  __eq__(self, value, /)\n",
      " |      Return self==value.\n",
      " |  \n",
      " |  __float__(self, /)\n",
      " |      float(self)\n",
      " |  \n",
      " |  __floordiv__(self, value, /)\n",
      " |      Return self//value.\n",
      " |  \n",
      " |  __format__(self, format_spec, /)\n",
      " |      Formats the float according to format_spec.\n",
      " |  \n",
      " |  __ge__(self, value, /)\n",
      " |      Return self>=value.\n",
      " |  \n",
      " |  __getattribute__(self, name, /)\n",
      " |      Return getattr(self, name).\n",
      " |  \n",
      " |  __getnewargs__(self, /)\n",
      " |  \n",
      " |  __gt__(self, value, /)\n",
      " |      Return self>value.\n",
      " |  \n",
      " |  __hash__(self, /)\n",
      " |      Return hash(self).\n",
      " |  \n",
      " |  __int__(self, /)\n",
      " |      int(self)\n",
      " |  \n",
      " |  __le__(self, value, /)\n",
      " |      Return self<=value.\n",
      " |  \n",
      " |  __lt__(self, value, /)\n",
      " |      Return self<value.\n",
      " |  \n",
      " |  __mod__(self, value, /)\n",
      " |      Return self%value.\n",
      " |  \n",
      " |  __mul__(self, value, /)\n",
      " |      Return self*value.\n",
      " |  \n",
      " |  __ne__(self, value, /)\n",
      " |      Return self!=value.\n",
      " |  \n",
      " |  __neg__(self, /)\n",
      " |      -self\n",
      " |  \n",
      " |  __pos__(self, /)\n",
      " |      +self\n",
      " |  \n",
      " |  __pow__(self, value, mod=None, /)\n",
      " |      Return pow(self, value, mod).\n",
      " |  \n",
      " |  __radd__(self, value, /)\n",
      " |      Return value+self.\n",
      " |  \n",
      " |  __rdivmod__(self, value, /)\n",
      " |      Return divmod(value, self).\n",
      " |  \n",
      " |  __repr__(self, /)\n",
      " |      Return repr(self).\n",
      " |  \n",
      " |  __rfloordiv__(self, value, /)\n",
      " |      Return value//self.\n",
      " |  \n",
      " |  __rmod__(self, value, /)\n",
      " |      Return value%self.\n",
      " |  \n",
      " |  __rmul__(self, value, /)\n",
      " |      Return value*self.\n",
      " |  \n",
      " |  __round__(self, ndigits=None, /)\n",
      " |      Return the Integral closest to x, rounding half toward even.\n",
      " |      \n",
      " |      When an argument is passed, work like built-in round(x, ndigits).\n",
      " |  \n",
      " |  __rpow__(self, value, mod=None, /)\n",
      " |      Return pow(value, self, mod).\n",
      " |  \n",
      " |  __rsub__(self, value, /)\n",
      " |      Return value-self.\n",
      " |  \n",
      " |  __rtruediv__(self, value, /)\n",
      " |      Return value/self.\n",
      " |  \n",
      " |  __sub__(self, value, /)\n",
      " |      Return self-value.\n",
      " |  \n",
      " |  __truediv__(self, value, /)\n",
      " |      Return self/value.\n",
      " |  \n",
      " |  __trunc__(self, /)\n",
      " |      Return the Integral closest to x between 0 and x.\n",
      " |  \n",
      " |  as_integer_ratio(self, /)\n",
      " |      Return integer ratio.\n",
      " |      \n",
      " |      Return a pair of integers, whose ratio is exactly equal to the original float\n",
      " |      and with a positive denominator.\n",
      " |      \n",
      " |      Raise OverflowError on infinities and a ValueError on NaNs.\n",
      " |      \n",
      " |      >>> (10.0).as_integer_ratio()\n",
      " |      (10, 1)\n",
      " |      >>> (0.0).as_integer_ratio()\n",
      " |      (0, 1)\n",
      " |      >>> (-.25).as_integer_ratio()\n",
      " |      (-1, 4)\n",
      " |  \n",
      " |  conjugate(self, /)\n",
      " |      Return self, the complex conjugate of any float.\n",
      " |  \n",
      " |  hex(self, /)\n",
      " |      Return a hexadecimal representation of a floating-point number.\n",
      " |      \n",
      " |      >>> (-0.1).hex()\n",
      " |      '-0x1.999999999999ap-4'\n",
      " |      >>> 3.14159.hex()\n",
      " |      '0x1.921f9f01b866ep+1'\n",
      " |  \n",
      " |  is_integer(self, /)\n",
      " |      Return True if the float is an integer.\n",
      " |  \n",
      " |  ----------------------------------------------------------------------\n",
      " |  Class methods defined here:\n",
      " |  \n",
      " |  __getformat__(typestr, /) from builtins.type\n",
      " |      You probably don't want to use this function.\n",
      " |      \n",
      " |        typestr\n",
      " |          Must be 'double' or 'float'.\n",
      " |      \n",
      " |      It exists mainly to be used in Python's test suite.\n",
      " |      \n",
      " |      This function returns whichever of 'unknown', 'IEEE, big-endian' or 'IEEE,\n",
      " |      little-endian' best describes the format of floating point numbers used by the\n",
      " |      C type named by typestr.\n",
      " |  \n",
      " |  __set_format__(typestr, fmt, /) from builtins.type\n",
      " |      You probably don't want to use this function.\n",
      " |      \n",
      " |        typestr\n",
      " |          Must be 'double' or 'float'.\n",
      " |        fmt\n",
      " |          Must be one of 'unknown', 'IEEE, big-endian' or 'IEEE, little-endian',\n",
      " |          and in addition can only be one of the latter two if it appears to\n",
      " |          match the underlying C reality.\n",
      " |      \n",
      " |      It exists mainly to be used in Python's test suite.\n",
      " |      \n",
      " |      Override the automatic determination of C-level floating point type.\n",
      " |      This affects how floats are converted to and from binary strings.\n",
      " |  \n",
      " |  fromhex(string, /) from builtins.type\n",
      " |      Create a floating-point number from a hexadecimal string.\n",
      " |      \n",
      " |      >>> float.fromhex('0x1.ffffp10')\n",
      " |      2047.984375\n",
      " |      >>> float.fromhex('-0x1p-1074')\n",
      " |      -5e-324\n",
      " |  \n",
      " |  ----------------------------------------------------------------------\n",
      " |  Static methods defined here:\n",
      " |  \n",
      " |  __new__(*args, **kwargs) from builtins.type\n",
      " |      Create and return a new object.  See help(type) for accurate signature.\n",
      " |  \n",
      " |  ----------------------------------------------------------------------\n",
      " |  Data descriptors defined here:\n",
      " |  \n",
      " |  imag\n",
      " |      the imaginary part of a complex number\n",
      " |  \n",
      " |  real\n",
      " |      the real part of a complex number\n",
      "\n"
     ]
    }
   ],
   "source": [
    "help(float)"
   ]
  },
  {
   "cell_type": "markdown",
   "id": "d4047fac",
   "metadata": {},
   "source": [
    "# Here is a new datatype: the Tuple\n",
    "\n",
    "A tuple is kind of like a list in a lot of ways (the elements are comma-separated, you index into them, you can also take slices), but they differ in a key way: lists are *mutable*, meaning that the data within the list can be changed after defining it, while tuples are *immutable*, so you cannot change the element values after you create a tuple variable"
   ]
  },
  {
   "cell_type": "code",
   "execution_count": 54,
   "id": "faa90377",
   "metadata": {},
   "outputs": [],
   "source": [
    "#ex. \n",
    "\n",
    "my_tuple = (1,2,3)\n",
    "my_list = [1,2,3]"
   ]
  },
  {
   "cell_type": "code",
   "execution_count": 55,
   "id": "7e5f1dbf",
   "metadata": {},
   "outputs": [
    {
     "data": {
      "text/plain": [
       "1"
      ]
     },
     "execution_count": 55,
     "metadata": {},
     "output_type": "execute_result"
    }
   ],
   "source": [
    "my_tuple[0]"
   ]
  },
  {
   "cell_type": "code",
   "execution_count": 56,
   "id": "2abd73d0",
   "metadata": {},
   "outputs": [
    {
     "data": {
      "text/plain": [
       "(1, 2)"
      ]
     },
     "execution_count": 56,
     "metadata": {},
     "output_type": "execute_result"
    }
   ],
   "source": [
    "my_tuple[:2]"
   ]
  },
  {
   "cell_type": "code",
   "execution_count": 57,
   "id": "4a42e4ff",
   "metadata": {},
   "outputs": [
    {
     "data": {
      "text/plain": [
       "(1, 2, 3, 4, 5, 6)"
      ]
     },
     "execution_count": 57,
     "metadata": {},
     "output_type": "execute_result"
    }
   ],
   "source": [
    "# You *can* append to the end of a tuple\n",
    "my_tuple + (4,5,6)"
   ]
  },
  {
   "cell_type": "code",
   "execution_count": 6,
   "id": "b6638dd1",
   "metadata": {},
   "outputs": [
    {
     "ename": "TypeError",
     "evalue": "'tuple' object does not support item assignment",
     "output_type": "error",
     "traceback": [
      "\u001b[1;31m---------------------------------------------------------------------------\u001b[0m",
      "\u001b[1;31mTypeError\u001b[0m                                 Traceback (most recent call last)",
      "\u001b[1;32m~\\AppData\\Local\\Temp\\ipykernel_13036\\669627431.py\u001b[0m in \u001b[0;36m<module>\u001b[1;34m\u001b[0m\n\u001b[1;32m----> 1\u001b[1;33m \u001b[0mmy_tuple\u001b[0m\u001b[1;33m[\u001b[0m\u001b[1;36m0\u001b[0m\u001b[1;33m]\u001b[0m \u001b[1;33m=\u001b[0m \u001b[1;36m9\u001b[0m\u001b[1;33m\u001b[0m\u001b[1;33m\u001b[0m\u001b[0m\n\u001b[0m",
      "\u001b[1;31mTypeError\u001b[0m: 'tuple' object does not support item assignment"
     ]
    }
   ],
   "source": [
    "my_tuple[0] = 9"
   ]
  },
  {
   "cell_type": "code",
   "execution_count": 58,
   "id": "5b0178f9",
   "metadata": {},
   "outputs": [],
   "source": [
    "my_list[0] = 9"
   ]
  },
  {
   "cell_type": "code",
   "execution_count": 59,
   "id": "9a9582fd",
   "metadata": {},
   "outputs": [
    {
     "data": {
      "text/plain": [
       "[9, 2, 3]"
      ]
     },
     "execution_count": 59,
     "metadata": {},
     "output_type": "execute_result"
    }
   ],
   "source": [
    "my_list"
   ]
  },
  {
   "cell_type": "code",
   "execution_count": 60,
   "id": "52d179f2",
   "metadata": {},
   "outputs": [
    {
     "ename": "TypeError",
     "evalue": "unsupported operand type(s) for -: 'tuple' and 'tuple'",
     "output_type": "error",
     "traceback": [
      "\u001b[1;31m---------------------------------------------------------------------------\u001b[0m",
      "\u001b[1;31mTypeError\u001b[0m                                 Traceback (most recent call last)",
      "Cell \u001b[1;32mIn[60], line 2\u001b[0m\n\u001b[0;32m      1\u001b[0m \u001b[38;5;66;03m# note that you cannot subtract with a tuple\u001b[39;00m\n\u001b[1;32m----> 2\u001b[0m \u001b[43mmy_tuple\u001b[49m\u001b[43m \u001b[49m\u001b[38;5;241;43m-\u001b[39;49m\u001b[43m \u001b[49m\u001b[43m(\u001b[49m\u001b[38;5;241;43m4\u001b[39;49m\u001b[43m,\u001b[49m\u001b[38;5;241;43m5\u001b[39;49m\u001b[43m,\u001b[49m\u001b[38;5;241;43m6\u001b[39;49m\u001b[43m)\u001b[49m\n",
      "\u001b[1;31mTypeError\u001b[0m: unsupported operand type(s) for -: 'tuple' and 'tuple'"
     ]
    }
   ],
   "source": [
    "# note that you cannot subtract with a tuple\n",
    "my_tuple - (4,5,6)"
   ]
  },
  {
   "cell_type": "code",
   "execution_count": 61,
   "id": "77146639",
   "metadata": {},
   "outputs": [
    {
     "data": {
      "text/plain": [
       "3"
      ]
     },
     "execution_count": 61,
     "metadata": {},
     "output_type": "execute_result"
    }
   ],
   "source": [
    "my_list.pop()"
   ]
  },
  {
   "cell_type": "code",
   "execution_count": 62,
   "id": "0e06791c",
   "metadata": {},
   "outputs": [
    {
     "data": {
      "text/plain": [
       "[9, 2]"
      ]
     },
     "execution_count": 62,
     "metadata": {},
     "output_type": "execute_result"
    }
   ],
   "source": [
    "my_list"
   ]
  },
  {
   "cell_type": "code",
   "execution_count": 63,
   "id": "e5be32fa",
   "metadata": {},
   "outputs": [
    {
     "data": {
      "text/plain": [
       "['__add__',\n",
       " '__class__',\n",
       " '__contains__',\n",
       " '__delattr__',\n",
       " '__dir__',\n",
       " '__doc__',\n",
       " '__eq__',\n",
       " '__format__',\n",
       " '__ge__',\n",
       " '__getattribute__',\n",
       " '__getitem__',\n",
       " '__getnewargs__',\n",
       " '__gt__',\n",
       " '__hash__',\n",
       " '__init__',\n",
       " '__init_subclass__',\n",
       " '__iter__',\n",
       " '__le__',\n",
       " '__len__',\n",
       " '__lt__',\n",
       " '__mul__',\n",
       " '__ne__',\n",
       " '__new__',\n",
       " '__reduce__',\n",
       " '__reduce_ex__',\n",
       " '__repr__',\n",
       " '__rmul__',\n",
       " '__setattr__',\n",
       " '__sizeof__',\n",
       " '__str__',\n",
       " '__subclasshook__',\n",
       " 'count',\n",
       " 'index']"
      ]
     },
     "execution_count": 63,
     "metadata": {},
     "output_type": "execute_result"
    }
   ],
   "source": [
    "dir(tuple)"
   ]
  },
  {
   "cell_type": "code",
   "execution_count": 64,
   "id": "2de826a2",
   "metadata": {},
   "outputs": [
    {
     "name": "stdout",
     "output_type": "stream",
     "text": [
      "Help on method_descriptor:\n",
      "\n",
      "count(self, value, /)\n",
      "    Return number of occurrences of value.\n",
      "\n"
     ]
    }
   ],
   "source": [
    "help(tuple.count)"
   ]
  }
 ],
 "metadata": {
  "kernelspec": {
   "display_name": "Python 3 (ipykernel)",
   "language": "python",
   "name": "python3"
  },
  "language_info": {
   "codemirror_mode": {
    "name": "ipython",
    "version": 3
   },
   "file_extension": ".py",
   "mimetype": "text/x-python",
   "name": "python",
   "nbconvert_exporter": "python",
   "pygments_lexer": "ipython3",
   "version": "3.8.16"
  }
 },
 "nbformat": 4,
 "nbformat_minor": 5
}
