{
 "cells": [
  {
   "cell_type": "markdown",
   "id": "081739cf",
   "metadata": {},
   "source": [
    "# Welcome to Beginning Python lessons!!"
   ]
  },
  {
   "cell_type": "markdown",
   "id": "35ae8f87",
   "metadata": {},
   "source": [
    "### Let's dive right in!\n",
    "\n",
    "We can print things to the screen using Python's built-in \"print\" function. Basically, Python recognizes the command \"print()\" and will print whatever is entered in the parentheses. If you want to print text, that text must be wrapped in single or double quotes, like this:"
   ]
  },
  {
   "cell_type": "code",
   "execution_count": 5,
   "id": "16d4161f",
   "metadata": {},
   "outputs": [
    {
     "name": "stdout",
     "output_type": "stream",
     "text": [
      "Hello, World!\n"
     ]
    }
   ],
   "source": [
    "print(\"Hello, World!\")"
   ]
  },
  {
   "cell_type": "markdown",
   "id": "d0c4840e",
   "metadata": {},
   "source": [
    "### Python can do simple (or complex) math operations"
   ]
  },
  {
   "cell_type": "code",
   "execution_count": 8,
   "id": "5177e89f",
   "metadata": {},
   "outputs": [
    {
     "data": {
      "text/plain": [
       "5"
      ]
     },
     "execution_count": 8,
     "metadata": {},
     "output_type": "execute_result"
    }
   ],
   "source": [
    "3+2"
   ]
  },
  {
   "cell_type": "code",
   "execution_count": 2,
   "id": "5811bd33",
   "metadata": {},
   "outputs": [
    {
     "data": {
      "text/plain": [
       "6"
      ]
     },
     "execution_count": 2,
     "metadata": {},
     "output_type": "execute_result"
    }
   ],
   "source": [
    "3*2"
   ]
  },
  {
   "cell_type": "code",
   "execution_count": 9,
   "id": "34b9587d",
   "metadata": {},
   "outputs": [
    {
     "data": {
      "text/plain": [
       "9"
      ]
     },
     "execution_count": 9,
     "metadata": {},
     "output_type": "execute_result"
    }
   ],
   "source": [
    "# To do exponentiation we type the base followed by two stars and the exponent\n",
    "3**2"
   ]
  },
  {
   "cell_type": "markdown",
   "id": "f648ae47",
   "metadata": {},
   "source": [
    "We can see that Python recognizes the symbols \"+\", \"-\", \"\\*\" and more as mathematical operators and performs the respective operation on the values placed on either side of the operator"
   ]
  },
  {
   "cell_type": "markdown",
   "id": "93583c4f",
   "metadata": {},
   "source": [
    "### If we run an operation, followed by the print function, we're only going to see the output of the print function"
   ]
  },
  {
   "cell_type": "code",
   "execution_count": 2,
   "id": "6a871aad",
   "metadata": {},
   "outputs": [
    {
     "name": "stdout",
     "output_type": "stream",
     "text": [
      "Hello, World!\n"
     ]
    }
   ],
   "source": [
    "3+2\n",
    "print(\"Hello, World!\")"
   ]
  },
  {
   "cell_type": "markdown",
   "id": "fcd814a3",
   "metadata": {},
   "source": [
    "If we want to print and *then* run an operation we see the output of the print function (which always is shown) and then the operation, because it was executed last. It doesn't matter where in the code the print function is executed, it is always shown."
   ]
  },
  {
   "cell_type": "code",
   "execution_count": 3,
   "id": "5da25213",
   "metadata": {},
   "outputs": [
    {
     "name": "stdout",
     "output_type": "stream",
     "text": [
      "Hello, World!\n"
     ]
    },
    {
     "data": {
      "text/plain": [
       "5"
      ]
     },
     "execution_count": 3,
     "metadata": {},
     "output_type": "execute_result"
    }
   ],
   "source": [
    "print(\"Hello, World!\")\n",
    "3+2"
   ]
  },
  {
   "cell_type": "markdown",
   "id": "e37a2fc0",
   "metadata": {},
   "source": [
    "### If we do an operation, the output is simply printed to screen and then lost forever. It is *not* automatically stored in memory (RAM)"
   ]
  },
  {
   "cell_type": "code",
   "execution_count": 4,
   "id": "d85f0edd",
   "metadata": {},
   "outputs": [
    {
     "data": {
      "text/plain": [
       "1"
      ]
     },
     "execution_count": 4,
     "metadata": {},
     "output_type": "execute_result"
    }
   ],
   "source": [
    "3+2\n",
    "3-2"
   ]
  },
  {
   "cell_type": "markdown",
   "id": "e06c489d",
   "metadata": {},
   "source": [
    "### Sometimes we want to keep the output of an operation. We can do this by *assigning* the value of the output to a variable, like \"x\", \"y\" or some longer, more descriptive name (can't start variable names with numbers or symbols)"
   ]
  },
  {
   "cell_type": "code",
   "execution_count": 2,
   "id": "2713d077",
   "metadata": {},
   "outputs": [],
   "source": [
    "x = 3+2\n",
    "y = 3-2"
   ]
  },
  {
   "cell_type": "markdown",
   "id": "5f5ac95e",
   "metadata": {},
   "source": [
    "### If we then execute a block of code containing a defined variable, the value assigned to that variable and stored in memory is then printed to the screen, or can be used in some other operation."
   ]
  },
  {
   "cell_type": "code",
   "execution_count": 3,
   "id": "55030174",
   "metadata": {},
   "outputs": [
    {
     "data": {
      "text/plain": [
       "5"
      ]
     },
     "execution_count": 3,
     "metadata": {},
     "output_type": "execute_result"
    }
   ],
   "source": [
    "x"
   ]
  },
  {
   "cell_type": "code",
   "execution_count": 7,
   "id": "bf1ee2e1",
   "metadata": {},
   "outputs": [
    {
     "data": {
      "text/plain": [
       "1"
      ]
     },
     "execution_count": 7,
     "metadata": {},
     "output_type": "execute_result"
    }
   ],
   "source": [
    "y"
   ]
  },
  {
   "cell_type": "markdown",
   "id": "69844010",
   "metadata": {},
   "source": [
    "### If we assign a new value to an existing variable name, that new value replaces the old one and the old is lost from memory forever."
   ]
  },
  {
   "cell_type": "code",
   "execution_count": 8,
   "id": "4dd6dae9",
   "metadata": {},
   "outputs": [],
   "source": [
    "x = 4"
   ]
  },
  {
   "cell_type": "code",
   "execution_count": 9,
   "id": "e4729088",
   "metadata": {},
   "outputs": [
    {
     "data": {
      "text/plain": [
       "4"
      ]
     },
     "execution_count": 9,
     "metadata": {},
     "output_type": "execute_result"
    }
   ],
   "source": [
    "x"
   ]
  },
  {
   "cell_type": "markdown",
   "id": "2dd9fcbc",
   "metadata": {},
   "source": [
    "### We can add or do other operations directly to variables, and Python automatically pulls the store value from memory assigned to that variable in order to do that operation"
   ]
  },
  {
   "cell_type": "code",
   "execution_count": 10,
   "id": "61a57296",
   "metadata": {},
   "outputs": [
    {
     "data": {
      "text/plain": [
       "5"
      ]
     },
     "execution_count": 10,
     "metadata": {},
     "output_type": "execute_result"
    }
   ],
   "source": [
    "x+1"
   ]
  },
  {
   "cell_type": "markdown",
   "id": "9099e110",
   "metadata": {},
   "source": [
    "# Data, data, data. Programming is *all* about manipulating data\n",
    "\n",
    "### We will take a deeper look into the list and string data types in lesson 2! \n"
   ]
  }
 ],
 "metadata": {
  "kernelspec": {
   "display_name": "Python 3 (ipykernel)",
   "language": "python",
   "name": "python3"
  },
  "language_info": {
   "codemirror_mode": {
    "name": "ipython",
    "version": 3
   },
   "file_extension": ".py",
   "mimetype": "text/x-python",
   "name": "python",
   "nbconvert_exporter": "python",
   "pygments_lexer": "ipython3",
   "version": "3.8.16"
  }
 },
 "nbformat": 4,
 "nbformat_minor": 5
}
