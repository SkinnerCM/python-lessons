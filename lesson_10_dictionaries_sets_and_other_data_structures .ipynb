{
 "cells": [
  {
   "cell_type": "code",
   "execution_count": 2,
   "id": "80358f5b",
   "metadata": {},
   "outputs": [
    {
     "name": "stdout",
     "output_type": "stream",
     "text": [
      "Help on class dict in module builtins:\n",
      "\n",
      "class dict(object)\n",
      " |  dict() -> new empty dictionary\n",
      " |  dict(mapping) -> new dictionary initialized from a mapping object's\n",
      " |      (key, value) pairs\n",
      " |  dict(iterable) -> new dictionary initialized as if via:\n",
      " |      d = {}\n",
      " |      for k, v in iterable:\n",
      " |          d[k] = v\n",
      " |  dict(**kwargs) -> new dictionary initialized with the name=value pairs\n",
      " |      in the keyword argument list.  For example:  dict(one=1, two=2)\n",
      " |  \n",
      " |  Built-in subclasses:\n",
      " |      StgDict\n",
      " |  \n",
      " |  Methods defined here:\n",
      " |  \n",
      " |  __contains__(self, key, /)\n",
      " |      True if the dictionary has the specified key, else False.\n",
      " |  \n",
      " |  __delitem__(self, key, /)\n",
      " |      Delete self[key].\n",
      " |  \n",
      " |  __eq__(self, value, /)\n",
      " |      Return self==value.\n",
      " |  \n",
      " |  __ge__(self, value, /)\n",
      " |      Return self>=value.\n",
      " |  \n",
      " |  __getattribute__(self, name, /)\n",
      " |      Return getattr(self, name).\n",
      " |  \n",
      " |  __getitem__(...)\n",
      " |      x.__getitem__(y) <==> x[y]\n",
      " |  \n",
      " |  __gt__(self, value, /)\n",
      " |      Return self>value.\n",
      " |  \n",
      " |  __init__(self, /, *args, **kwargs)\n",
      " |      Initialize self.  See help(type(self)) for accurate signature.\n",
      " |  \n",
      " |  __iter__(self, /)\n",
      " |      Implement iter(self).\n",
      " |  \n",
      " |  __le__(self, value, /)\n",
      " |      Return self<=value.\n",
      " |  \n",
      " |  __len__(self, /)\n",
      " |      Return len(self).\n",
      " |  \n",
      " |  __lt__(self, value, /)\n",
      " |      Return self<value.\n",
      " |  \n",
      " |  __ne__(self, value, /)\n",
      " |      Return self!=value.\n",
      " |  \n",
      " |  __repr__(self, /)\n",
      " |      Return repr(self).\n",
      " |  \n",
      " |  __reversed__(self, /)\n",
      " |      Return a reverse iterator over the dict keys.\n",
      " |  \n",
      " |  __setitem__(self, key, value, /)\n",
      " |      Set self[key] to value.\n",
      " |  \n",
      " |  __sizeof__(...)\n",
      " |      D.__sizeof__() -> size of D in memory, in bytes\n",
      " |  \n",
      " |  clear(...)\n",
      " |      D.clear() -> None.  Remove all items from D.\n",
      " |  \n",
      " |  copy(...)\n",
      " |      D.copy() -> a shallow copy of D\n",
      " |  \n",
      " |  get(self, key, default=None, /)\n",
      " |      Return the value for key if key is in the dictionary, else default.\n",
      " |  \n",
      " |  items(...)\n",
      " |      D.items() -> a set-like object providing a view on D's items\n",
      " |  \n",
      " |  keys(...)\n",
      " |      D.keys() -> a set-like object providing a view on D's keys\n",
      " |  \n",
      " |  pop(...)\n",
      " |      D.pop(k[,d]) -> v, remove specified key and return the corresponding value.\n",
      " |      If key is not found, d is returned if given, otherwise KeyError is raised\n",
      " |  \n",
      " |  popitem(self, /)\n",
      " |      Remove and return a (key, value) pair as a 2-tuple.\n",
      " |      \n",
      " |      Pairs are returned in LIFO (last-in, first-out) order.\n",
      " |      Raises KeyError if the dict is empty.\n",
      " |  \n",
      " |  setdefault(self, key, default=None, /)\n",
      " |      Insert key with a value of default if key is not in the dictionary.\n",
      " |      \n",
      " |      Return the value for key if key is in the dictionary, else default.\n",
      " |  \n",
      " |  update(...)\n",
      " |      D.update([E, ]**F) -> None.  Update D from dict/iterable E and F.\n",
      " |      If E is present and has a .keys() method, then does:  for k in E: D[k] = E[k]\n",
      " |      If E is present and lacks a .keys() method, then does:  for k, v in E: D[k] = v\n",
      " |      In either case, this is followed by: for k in F:  D[k] = F[k]\n",
      " |  \n",
      " |  values(...)\n",
      " |      D.values() -> an object providing a view on D's values\n",
      " |  \n",
      " |  ----------------------------------------------------------------------\n",
      " |  Class methods defined here:\n",
      " |  \n",
      " |  fromkeys(iterable, value=None, /) from builtins.type\n",
      " |      Create a new dictionary with keys from iterable and values set to value.\n",
      " |  \n",
      " |  ----------------------------------------------------------------------\n",
      " |  Static methods defined here:\n",
      " |  \n",
      " |  __new__(*args, **kwargs) from builtins.type\n",
      " |      Create and return a new object.  See help(type) for accurate signature.\n",
      " |  \n",
      " |  ----------------------------------------------------------------------\n",
      " |  Data and other attributes defined here:\n",
      " |  \n",
      " |  __hash__ = None\n",
      "\n"
     ]
    }
   ],
   "source": [
    "help(dict)"
   ]
  },
  {
   "cell_type": "code",
   "execution_count": 5,
   "id": "a8c9bede",
   "metadata": {},
   "outputs": [
    {
     "data": {
      "text/plain": [
       "{'key1': 'value 1'}"
      ]
     },
     "execution_count": 5,
     "metadata": {},
     "output_type": "execute_result"
    }
   ],
   "source": [
    "dict({'key1':'value 1'})"
   ]
  },
  {
   "cell_type": "code",
   "execution_count": 10,
   "id": "5a180416",
   "metadata": {},
   "outputs": [],
   "source": [
    "d = {'key1':'value 1', 'key2':'value 2'}"
   ]
  },
  {
   "cell_type": "code",
   "execution_count": 23,
   "id": "f06296b2",
   "metadata": {},
   "outputs": [],
   "source": [
    "d = {'key1':[1,2,3], 'key2':(1,4,6,9)}"
   ]
  },
  {
   "cell_type": "code",
   "execution_count": 31,
   "id": "c3389d1d",
   "metadata": {},
   "outputs": [
    {
     "name": "stdout",
     "output_type": "stream",
     "text": [
      "1\n",
      "4\n",
      "6\n",
      "9\n"
     ]
    }
   ],
   "source": [
    "for x in d['key2']:\n",
    "    \n",
    "    print(x)"
   ]
  },
  {
   "cell_type": "code",
   "execution_count": 29,
   "id": "8973359d",
   "metadata": {},
   "outputs": [],
   "source": [
    "d = {'key1': {'inner_key1':{'innner_key1': 'Hello'}}, 'key2':(1,4,6,9)}"
   ]
  },
  {
   "cell_type": "code",
   "execution_count": 35,
   "id": "d73d6040",
   "metadata": {},
   "outputs": [
    {
     "data": {
      "text/plain": [
       "'Hello'"
      ]
     },
     "execution_count": 35,
     "metadata": {},
     "output_type": "execute_result"
    }
   ],
   "source": [
    "d['key1']['inner_key1']['innner_key1']"
   ]
  },
  {
   "cell_type": "code",
   "execution_count": 37,
   "id": "20079536",
   "metadata": {},
   "outputs": [],
   "source": [
    "l = [[['Hello']], (1,4,6,9)]"
   ]
  },
  {
   "cell_type": "code",
   "execution_count": 38,
   "id": "a5da498c",
   "metadata": {},
   "outputs": [
    {
     "data": {
      "text/plain": [
       "'Hello'"
      ]
     },
     "execution_count": 38,
     "metadata": {},
     "output_type": "execute_result"
    }
   ],
   "source": [
    "l[0][0][0]"
   ]
  },
  {
   "cell_type": "code",
   "execution_count": 61,
   "id": "4262dbcd",
   "metadata": {},
   "outputs": [],
   "source": [
    "employees = {'Chuck': \n",
    "                 {'Personal': \n",
    "                      {'Address': '1234 Arroyo Lane, Albuquerque, NM', \n",
    "                       'Phone number': '555-5555', \n",
    "                       'SSN': '000-123-4566'} , \n",
    "                  'Performance': \n",
    "                      {'Q1': 'A+',\n",
    "                       'Q2': 'A'}},\n",
    "             'Jimmy': \n",
    "                {'Personal': \n",
    "                      {'Address': '456 Broadway, San Diego, CA', \n",
    "                       'Phone number': '222-5555', \n",
    "                       'SSN': '000-223-5667'} , \n",
    "                  'Performance': \n",
    "                      {'Q1': 'B+',\n",
    "                       'Q2': 'C'}}\n",
    "            }"
   ]
  },
  {
   "cell_type": "code",
   "execution_count": 45,
   "id": "af144a8a",
   "metadata": {},
   "outputs": [
    {
     "data": {
      "text/plain": [
       "{'Personal': {'Address': '1234 Arroyo Lane, Albuquerque, NM',\n",
       "  'Phone number': '555-5555',\n",
       "  'SSN': '000-123-4566'},\n",
       " 'Performance': {'Q1': 'A+', 'Q2': 'A'}}"
      ]
     },
     "execution_count": 45,
     "metadata": {},
     "output_type": "execute_result"
    }
   ],
   "source": [
    "employees['Chuck']"
   ]
  },
  {
   "cell_type": "code",
   "execution_count": 46,
   "id": "72867c95",
   "metadata": {},
   "outputs": [
    {
     "data": {
      "text/plain": [
       "{'Q1': 'A+', 'Q2': 'A'}"
      ]
     },
     "execution_count": 46,
     "metadata": {},
     "output_type": "execute_result"
    }
   ],
   "source": [
    "employees['Chuck']['Performance']"
   ]
  },
  {
   "cell_type": "code",
   "execution_count": 47,
   "id": "c1131c8c",
   "metadata": {},
   "outputs": [
    {
     "data": {
      "text/plain": [
       "{'Personal': {'Address': '456 Broadway, San Diego, CA',\n",
       "  'Phone number': '222-5555',\n",
       "  'SSN': '000-223-5667'},\n",
       " 'Performance': {'Q1': 'B+', 'Q2': 'C'}}"
      ]
     },
     "execution_count": 47,
     "metadata": {},
     "output_type": "execute_result"
    }
   ],
   "source": [
    "employees['Jimmy']"
   ]
  },
  {
   "cell_type": "code",
   "execution_count": 48,
   "id": "a0ff0f82",
   "metadata": {},
   "outputs": [
    {
     "data": {
      "text/plain": [
       "{'Address': '456 Broadway, San Diego, CA',\n",
       " 'Phone number': '222-5555',\n",
       " 'SSN': '000-223-5667'}"
      ]
     },
     "execution_count": 48,
     "metadata": {},
     "output_type": "execute_result"
    }
   ],
   "source": [
    "employees['Jimmy']['Personal']"
   ]
  },
  {
   "cell_type": "code",
   "execution_count": 49,
   "id": "107f2861",
   "metadata": {},
   "outputs": [
    {
     "data": {
      "text/plain": [
       "['__class__',\n",
       " '__contains__',\n",
       " '__delattr__',\n",
       " '__delitem__',\n",
       " '__dir__',\n",
       " '__doc__',\n",
       " '__eq__',\n",
       " '__format__',\n",
       " '__ge__',\n",
       " '__getattribute__',\n",
       " '__getitem__',\n",
       " '__gt__',\n",
       " '__hash__',\n",
       " '__init__',\n",
       " '__init_subclass__',\n",
       " '__iter__',\n",
       " '__le__',\n",
       " '__len__',\n",
       " '__lt__',\n",
       " '__ne__',\n",
       " '__new__',\n",
       " '__reduce__',\n",
       " '__reduce_ex__',\n",
       " '__repr__',\n",
       " '__reversed__',\n",
       " '__setattr__',\n",
       " '__setitem__',\n",
       " '__sizeof__',\n",
       " '__str__',\n",
       " '__subclasshook__',\n",
       " 'clear',\n",
       " 'copy',\n",
       " 'fromkeys',\n",
       " 'get',\n",
       " 'items',\n",
       " 'keys',\n",
       " 'pop',\n",
       " 'popitem',\n",
       " 'setdefault',\n",
       " 'update',\n",
       " 'values']"
      ]
     },
     "execution_count": 49,
     "metadata": {},
     "output_type": "execute_result"
    }
   ],
   "source": [
    "dir(employees)"
   ]
  },
  {
   "cell_type": "code",
   "execution_count": 52,
   "id": "566761b7",
   "metadata": {},
   "outputs": [],
   "source": [
    "employees.clear()"
   ]
  },
  {
   "cell_type": "code",
   "execution_count": 63,
   "id": "47a339bc",
   "metadata": {},
   "outputs": [],
   "source": [
    "copy = employees.copy()"
   ]
  },
  {
   "cell_type": "code",
   "execution_count": 65,
   "id": "f3ab53e6",
   "metadata": {},
   "outputs": [],
   "source": [
    "copy['Howard'] = {}"
   ]
  },
  {
   "cell_type": "code",
   "execution_count": 66,
   "id": "5da4b191",
   "metadata": {},
   "outputs": [
    {
     "data": {
      "text/plain": [
       "{'Chuck': {'Personal': {'Address': '1234 Arroyo Lane, Albuquerque, NM',\n",
       "   'Phone number': '555-5555',\n",
       "   'SSN': '000-123-4566'},\n",
       "  'Performance': {'Q1': 'A+', 'Q2': 'A'}},\n",
       " 'Jimmy': {'Personal': {'Address': '456 Broadway, San Diego, CA',\n",
       "   'Phone number': '222-5555',\n",
       "   'SSN': '000-223-5667'},\n",
       "  'Performance': {'Q1': 'B+', 'Q2': 'C'}},\n",
       " 'Howard': {}}"
      ]
     },
     "execution_count": 66,
     "metadata": {},
     "output_type": "execute_result"
    }
   ],
   "source": [
    "copy"
   ]
  },
  {
   "cell_type": "code",
   "execution_count": 67,
   "id": "706751d7",
   "metadata": {},
   "outputs": [
    {
     "data": {
      "text/plain": [
       "{'Chuck': {'Personal': {'Address': '1234 Arroyo Lane, Albuquerque, NM',\n",
       "   'Phone number': '555-5555',\n",
       "   'SSN': '000-123-4566'},\n",
       "  'Performance': {'Q1': 'A+', 'Q2': 'A'}},\n",
       " 'Jimmy': {'Personal': {'Address': '456 Broadway, San Diego, CA',\n",
       "   'Phone number': '222-5555',\n",
       "   'SSN': '000-223-5667'},\n",
       "  'Performance': {'Q1': 'B+', 'Q2': 'C'}}}"
      ]
     },
     "execution_count": 67,
     "metadata": {},
     "output_type": "execute_result"
    }
   ],
   "source": [
    "employees"
   ]
  },
  {
   "cell_type": "code",
   "execution_count": 72,
   "id": "00196399",
   "metadata": {},
   "outputs": [
    {
     "name": "stdout",
     "output_type": "stream",
     "text": [
      "Help on built-in function fromkeys:\n",
      "\n",
      "fromkeys(iterable, value=None, /) method of builtins.type instance\n",
      "    Create a new dictionary with keys from iterable and values set to value.\n",
      "\n"
     ]
    }
   ],
   "source": [
    "help(copy.fromkeys)"
   ]
  },
  {
   "cell_type": "code",
   "execution_count": 73,
   "id": "910b8e98",
   "metadata": {},
   "outputs": [],
   "source": [
    "l = ['Employee 1', 'Employee 2', 'Employee 3']"
   ]
  },
  {
   "cell_type": "code",
   "execution_count": 88,
   "id": "180e537a",
   "metadata": {},
   "outputs": [
    {
     "data": {
      "text/plain": [
       "tuple"
      ]
     },
     "execution_count": 88,
     "metadata": {},
     "output_type": "execute_result"
    }
   ],
   "source": [
    "type(list(copy.items())[0])"
   ]
  },
  {
   "cell_type": "code",
   "execution_count": null,
   "id": "cb34dff6",
   "metadata": {},
   "outputs": [],
   "source": []
  }
 ],
 "metadata": {
  "kernelspec": {
   "display_name": "Python 3 (ipykernel)",
   "language": "python",
   "name": "python3"
  },
  "language_info": {
   "codemirror_mode": {
    "name": "ipython",
    "version": 3
   },
   "file_extension": ".py",
   "mimetype": "text/x-python",
   "name": "python",
   "nbconvert_exporter": "python",
   "pygments_lexer": "ipython3",
   "version": "3.8.16"
  }
 },
 "nbformat": 4,
 "nbformat_minor": 5
}
