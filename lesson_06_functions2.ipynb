{
 "cells": [
  {
   "cell_type": "markdown",
   "id": "58ff29b3",
   "metadata": {},
   "source": [
    "Functions are great for modularity! Often times it's better to think of a long program as really just a collection of commonly done operations. Often we use the same operations over and over. Whenever this is the case for an operation, it belongs in its own function."
   ]
  },
  {
   "cell_type": "markdown",
   "id": "22b98bfa",
   "metadata": {},
   "source": [
    "Quick side note: \"\\*\\*\" is the exponent operator, e.g. 4\\*\\*3 means four raised to the third power "
   ]
  },
  {
   "cell_type": "code",
   "execution_count": 5,
   "id": "e57d046d",
   "metadata": {},
   "outputs": [
    {
     "data": {
      "text/plain": [
       "16"
      ]
     },
     "execution_count": 5,
     "metadata": {},
     "output_type": "execute_result"
    }
   ],
   "source": [
    "#ex \n",
    "4**2"
   ]
  },
  {
   "cell_type": "markdown",
   "id": "db1da165",
   "metadata": {},
   "source": [
    "## New data type: Tuple"
   ]
  },
  {
   "cell_type": "markdown",
   "id": "abb2c49a",
   "metadata": {},
   "source": [
    "Tuples are lists of numbers but they differ from the list data type in that they are immutable, meaning one they are created their elements cannot be changed/manipulated\n",
    "\n",
    "Tuple delimiters: ( and )\n",
    "\n",
    "Ex. (1,2,3)\n",
    "\n",
    "Elements of tuples can be called by indexing, just the way you do with a list\n",
    "\n",
    "e.g. x = (1,2,3) ==> x[0] returns --> 1"
   ]
  },
  {
   "cell_type": "code",
   "execution_count": 19,
   "id": "1a28b0f0",
   "metadata": {},
   "outputs": [],
   "source": [
    "#ex.\n",
    "\n",
    "x = (1,2,3)"
   ]
  },
  {
   "cell_type": "code",
   "execution_count": 20,
   "id": "099ca28e",
   "metadata": {},
   "outputs": [
    {
     "data": {
      "text/plain": [
       "1"
      ]
     },
     "execution_count": 20,
     "metadata": {},
     "output_type": "execute_result"
    }
   ],
   "source": [
    "x[0]"
   ]
  },
  {
   "cell_type": "markdown",
   "id": "2e1d7ff8",
   "metadata": {},
   "source": [
    "So we see that the first element in the tuple is 1 when we call its index. What if we try to overwrite the 1 and make the first element a 4?"
   ]
  },
  {
   "cell_type": "code",
   "execution_count": 21,
   "id": "2e470b4c",
   "metadata": {},
   "outputs": [
    {
     "ename": "TypeError",
     "evalue": "'tuple' object does not support item assignment",
     "output_type": "error",
     "traceback": [
      "\u001b[1;31m---------------------------------------------------------------------------\u001b[0m",
      "\u001b[1;31mTypeError\u001b[0m                                 Traceback (most recent call last)",
      "\u001b[1;32m~\\AppData\\Local\\Temp\\ipykernel_21308\\3488767322.py\u001b[0m in \u001b[0;36m<module>\u001b[1;34m\u001b[0m\n\u001b[1;32m----> 1\u001b[1;33m \u001b[0mx\u001b[0m\u001b[1;33m[\u001b[0m\u001b[1;36m0\u001b[0m\u001b[1;33m]\u001b[0m \u001b[1;33m=\u001b[0m \u001b[1;36m4\u001b[0m\u001b[1;33m\u001b[0m\u001b[1;33m\u001b[0m\u001b[0m\n\u001b[0m",
      "\u001b[1;31mTypeError\u001b[0m: 'tuple' object does not support item assignment"
     ]
    }
   ],
   "source": [
    "x[0] = 4"
   ]
  },
  {
   "cell_type": "markdown",
   "id": "32d29fd9",
   "metadata": {},
   "source": [
    "We get an error because tuples are immutable, unlike lists, which are mutable. So we cannot change the existing data in a tuple, but we can still add on to it, just the same way we add on to a list"
   ]
  },
  {
   "cell_type": "code",
   "execution_count": 22,
   "id": "53db9360",
   "metadata": {},
   "outputs": [
    {
     "data": {
      "text/plain": [
       "(1, 2, 3, 4, 5)"
      ]
     },
     "execution_count": 22,
     "metadata": {},
     "output_type": "execute_result"
    }
   ],
   "source": [
    "x + (4,5)"
   ]
  },
  {
   "cell_type": "code",
   "execution_count": 30,
   "id": "6c50c374",
   "metadata": {},
   "outputs": [],
   "source": [
    "def magnitude(x):\n",
    "    \n",
    "    from math import sqrt\n",
    "    \n",
    "    d_squared = 0\n",
    "    \n",
    "    for elem in x:\n",
    "        \n",
    "        d_squared += elem**2        \n",
    "    \n",
    "    return sqrt(d_squared)"
   ]
  },
  {
   "cell_type": "code",
   "execution_count": 31,
   "id": "91ff1bf0",
   "metadata": {},
   "outputs": [],
   "source": [
    "x = (3,4)"
   ]
  },
  {
   "cell_type": "code",
   "execution_count": 32,
   "id": "86692bea",
   "metadata": {},
   "outputs": [
    {
     "data": {
      "text/plain": [
       "5.0"
      ]
     },
     "execution_count": 32,
     "metadata": {},
     "output_type": "execute_result"
    }
   ],
   "source": [
    "magnitude(x)"
   ]
  },
  {
   "cell_type": "code",
   "execution_count": 34,
   "id": "dcf44283",
   "metadata": {},
   "outputs": [],
   "source": [
    "def dot_prod(x,y):\n",
    "    \n",
    "    #We can exit the function early and without throwing an error by first verifying the tuple/vectors are of the same length\n",
    "    if len(x)!= len(y):\n",
    "        \n",
    "        # if this return statement gets executed we will exit the function early\n",
    "        return 'You cannot take the dot product of vectors in different dimensions'\n",
    "    \n",
    "    dot = 0\n",
    "    \n",
    "    for i in range(len(x)):    \n",
    "        \n",
    "        dot += x[i]*y[i]\n",
    "        \n",
    "    return dot     "
   ]
  },
  {
   "cell_type": "code",
   "execution_count": 36,
   "id": "320c4aba",
   "metadata": {},
   "outputs": [
    {
     "data": {
      "text/plain": [
       "4"
      ]
     },
     "execution_count": 36,
     "metadata": {},
     "output_type": "execute_result"
    }
   ],
   "source": [
    "dot_prod((2,2),(1,1))"
   ]
  },
  {
   "cell_type": "code",
   "execution_count": 37,
   "id": "6c140ce0",
   "metadata": {},
   "outputs": [],
   "source": [
    "def cos_theta(x,y):\n",
    "    \n",
    "    #We can exit the function early and without throwing an error by first verifying the tuple/vectors are of the same length\n",
    "    if len(x)!= len(y):\n",
    "        \n",
    "        # if this return statement gets executed we will exit the function early\n",
    "        return 'You cannot take the dot product of vectors in different dimensions'\n",
    "    \n",
    "    dot = dot_prod(x,y)\n",
    "    \n",
    "    mag_x = magnitude(x)\n",
    "    mag_y = magnitude(y)\n",
    "    \n",
    "    cos = dot/(mag_x*mag_y)\n",
    "    \n",
    "    return cos\n",
    "    "
   ]
  },
  {
   "cell_type": "code",
   "execution_count": 40,
   "id": "c79e9527",
   "metadata": {},
   "outputs": [
    {
     "data": {
      "text/plain": [
       "0.7071067811865475"
      ]
     },
     "execution_count": 40,
     "metadata": {},
     "output_type": "execute_result"
    }
   ],
   "source": [
    "cos_theta((1,1),(0,1))"
   ]
  },
  {
   "cell_type": "code",
   "execution_count": null,
   "id": "9b3e4b9a",
   "metadata": {},
   "outputs": [],
   "source": []
  }
 ],
 "metadata": {
  "kernelspec": {
   "display_name": "Python 3 (ipykernel)",
   "language": "python",
   "name": "python3"
  },
  "language_info": {
   "codemirror_mode": {
    "name": "ipython",
    "version": 3
   },
   "file_extension": ".py",
   "mimetype": "text/x-python",
   "name": "python",
   "nbconvert_exporter": "python",
   "pygments_lexer": "ipython3",
   "version": "3.7.15"
  }
 },
 "nbformat": 4,
 "nbformat_minor": 5
}
