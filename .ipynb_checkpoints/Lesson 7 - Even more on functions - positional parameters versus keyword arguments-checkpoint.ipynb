{
 "cells": [
  {
   "cell_type": "markdown",
   "id": "4c7aca36",
   "metadata": {},
   "source": [
    "Values passed into functions are called parameters or arguments, and it is these values which the functions typically will do something to or use in the process of carrying the function's task. Often times, a function will have multiple inputs. Turns out that the *position* of the input in the definition of the function really matters. In other words, if you define a function with inputs \"x\", \"y\" and \"z\", in that order, the function when called will assign the specified inputs to those variables in that particular order, i.e. the order or position matters. We call input values like these, **positional parameters**. "
   ]
  },
  {
   "cell_type": "code",
   "execution_count": 7,
   "id": "6576e2c8",
   "metadata": {},
   "outputs": [],
   "source": [
    "#example:\n",
    "\n",
    "def linear_eqn(m,x,b):\n",
    "    \n",
    "    y = m*x+b\n",
    "    \n",
    "    print('The slope is:',m , 'and the y-intercept is:', b)\n",
    "    \n",
    "    return y"
   ]
  },
  {
   "cell_type": "code",
   "execution_count": 8,
   "id": "42aed0a2",
   "metadata": {},
   "outputs": [
    {
     "name": "stdout",
     "output_type": "stream",
     "text": [
      "The slope is: 2 and the y-intercept is: 1\n"
     ]
    },
    {
     "data": {
      "text/plain": [
       "11"
      ]
     },
     "execution_count": 8,
     "metadata": {},
     "output_type": "execute_result"
    }
   ],
   "source": [
    "linear_eqn(2, 5, 1)"
   ]
  },
  {
   "cell_type": "code",
   "execution_count": 9,
   "id": "5357756f",
   "metadata": {},
   "outputs": [
    {
     "name": "stdout",
     "output_type": "stream",
     "text": [
      "The slope is: 5 and the y-intercept is: 1\n"
     ]
    },
    {
     "data": {
      "text/plain": [
       "11"
      ]
     },
     "execution_count": 9,
     "metadata": {},
     "output_type": "execute_result"
    }
   ],
   "source": [
    "linear_eqn(5, 2, 1)"
   ]
  },
  {
   "cell_type": "markdown",
   "id": "a28f6ea4",
   "metadata": {},
   "source": [
    "Notice that while we got the same output (due to commutativity of multiplication), we got different values given for the slope. This happened because we passed the values into the function in two different orders. As far as Python knows, the first value passed in is always going to be assigned to the function variable \"m\" and the second to \"x\" and the third to \"b\"."
   ]
  },
  {
   "cell_type": "markdown",
   "id": "ad0bc2ab",
   "metadata": {},
   "source": [
    "Sometimes, we may not want to rely on the position of the parameters for the assignment. In this case, we can explicitly define the parameter values when we call the function."
   ]
  },
  {
   "cell_type": "code",
   "execution_count": 11,
   "id": "d199c57a",
   "metadata": {},
   "outputs": [
    {
     "name": "stdout",
     "output_type": "stream",
     "text": [
      "The slope is: 2 and the y-intercept is: 1\n"
     ]
    },
    {
     "data": {
      "text/plain": [
       "11"
      ]
     },
     "execution_count": 11,
     "metadata": {},
     "output_type": "execute_result"
    }
   ],
   "source": [
    "#ex.\n",
    "linear_eqn(x=5, m=2, b=1)"
   ]
  },
  {
   "cell_type": "markdown",
   "id": "c9070606",
   "metadata": {},
   "source": [
    "Notice in this case we get the same output as we did in the first call of linear_eqn where we used the position of the arguments to determine the variable assignment. In the case above, where we explicitly defined the parameter values, we turned them into **keyword parameters**"
   ]
  },
  {
   "cell_type": "code",
   "execution_count": 12,
   "id": "cd8b90b5",
   "metadata": {},
   "outputs": [
    {
     "ename": "SyntaxError",
     "evalue": "positional argument follows keyword argument (989243218.py, line 2)",
     "output_type": "error",
     "traceback": [
      "\u001b[1;36m  File \u001b[1;32m\"C:\\Users\\Colin\\AppData\\Local\\Temp\\ipykernel_11524\\989243218.py\"\u001b[1;36m, line \u001b[1;32m2\u001b[0m\n\u001b[1;33m    linear_eqn(x=5, 2, 1)\u001b[0m\n\u001b[1;37m                   ^\u001b[0m\n\u001b[1;31mSyntaxError\u001b[0m\u001b[1;31m:\u001b[0m positional argument follows keyword argument\n"
     ]
    }
   ],
   "source": [
    "#ex.\n",
    "linear_eqn(x=5, 2, 1)"
   ]
  },
  {
   "cell_type": "markdown",
   "id": "ddef07bc",
   "metadata": {},
   "source": [
    "Notice how we get an argument that refers to the position of the parameters. By defining a keyword argument in front of the other implictly defined values, we confuse the Python interpreter's counting of position."
   ]
  },
  {
   "cell_type": "code",
   "execution_count": 13,
   "id": "dbcb8706",
   "metadata": {},
   "outputs": [
    {
     "name": "stdout",
     "output_type": "stream",
     "text": [
      "The slope is: 2 and the y-intercept is: 1\n"
     ]
    },
    {
     "data": {
      "text/plain": [
       "11"
      ]
     },
     "execution_count": 13,
     "metadata": {},
     "output_type": "execute_result"
    }
   ],
   "source": [
    "#ex.\n",
    "linear_eqn(2, 5, b=1)"
   ]
  },
  {
   "cell_type": "markdown",
   "id": "d17b6c57",
   "metadata": {},
   "source": [
    "However, ^^^ this is OK because there is no ambiguity as to which value belongs to which positional argument."
   ]
  },
  {
   "cell_type": "markdown",
   "id": "1c1a2942",
   "metadata": {},
   "source": [
    "Sometimes, we want to define at least some of a function's inputs to have default values, which the user may or may not choose to redefine when they call the function. In the case where a parameter is explicitly defined in the function definition, it becomes a keyword argument (but its position may still come into play, depending on how the user calls the function). "
   ]
  },
  {
   "cell_type": "code",
   "execution_count": 14,
   "id": "74d30540",
   "metadata": {},
   "outputs": [],
   "source": [
    "def animal_speak(animal, phrase ='default animal noise'):\n",
    "    \n",
    "    print(f'The {animal} says: ', phrase)"
   ]
  },
  {
   "cell_type": "code",
   "execution_count": 15,
   "id": "ca91c83a",
   "metadata": {},
   "outputs": [
    {
     "name": "stdout",
     "output_type": "stream",
     "text": [
      "The Duck says:  default animal noise\n"
     ]
    }
   ],
   "source": [
    "animal_speak('Duck')"
   ]
  },
  {
   "cell_type": "markdown",
   "id": "a65a6355",
   "metadata": {},
   "source": [
    "Notice how we did not get an error, despite not passing in a second value in the function call. If phrase was not explicitly defined with a default value, we *would* have received an error."
   ]
  },
  {
   "cell_type": "code",
   "execution_count": 16,
   "id": "9119e88d",
   "metadata": {},
   "outputs": [],
   "source": [
    "def animal_speak(animal, phrase):\n",
    "    \n",
    "    print(f'The {animal} says: ', phrase)"
   ]
  },
  {
   "cell_type": "code",
   "execution_count": 17,
   "id": "5c62edab",
   "metadata": {},
   "outputs": [
    {
     "ename": "TypeError",
     "evalue": "animal_speak() missing 1 required positional argument: 'phrase'",
     "output_type": "error",
     "traceback": [
      "\u001b[1;31m---------------------------------------------------------------------------\u001b[0m",
      "\u001b[1;31mTypeError\u001b[0m                                 Traceback (most recent call last)",
      "\u001b[1;32m~\\AppData\\Local\\Temp\\ipykernel_11524\\2037476558.py\u001b[0m in \u001b[0;36m<module>\u001b[1;34m\u001b[0m\n\u001b[1;32m----> 1\u001b[1;33m \u001b[0manimal_speak\u001b[0m\u001b[1;33m(\u001b[0m\u001b[1;34m'Duck'\u001b[0m\u001b[1;33m)\u001b[0m\u001b[1;33m\u001b[0m\u001b[1;33m\u001b[0m\u001b[0m\n\u001b[0m",
      "\u001b[1;31mTypeError\u001b[0m: animal_speak() missing 1 required positional argument: 'phrase'"
     ]
    }
   ],
   "source": [
    "animal_speak('Duck')"
   ]
  },
  {
   "cell_type": "code",
   "execution_count": 19,
   "id": "296d103e",
   "metadata": {},
   "outputs": [],
   "source": [
    "def animal_speak(animal='Dog', phrase='Default animal noise'):\n",
    "    \n",
    "    print(f'The {animal} says: ', phrase)"
   ]
  },
  {
   "cell_type": "code",
   "execution_count": 20,
   "id": "ee5bb455",
   "metadata": {},
   "outputs": [
    {
     "name": "stdout",
     "output_type": "stream",
     "text": [
      "The Dog says:  Default animal noise\n"
     ]
    }
   ],
   "source": [
    "animal_speak()"
   ]
  },
  {
   "cell_type": "markdown",
   "id": "6616da95",
   "metadata": {},
   "source": [
    "^^^Here, we don't even need to pass in any arguments to still get an output because all of the arguments have been assigned to default values."
   ]
  },
  {
   "cell_type": "code",
   "execution_count": 21,
   "id": "a71e793a",
   "metadata": {},
   "outputs": [
    {
     "name": "stdout",
     "output_type": "stream",
     "text": [
      "The Woof! says:  Default animal noise\n"
     ]
    }
   ],
   "source": [
    "animal_speak('Woof!')"
   ]
  },
  {
   "cell_type": "markdown",
   "id": "d24bcf29",
   "metadata": {},
   "source": [
    "^^^Notice here, that we tried to redefine the phrase variable to \"Woof!\", but since phrase is a keyword argument and we did not explicitly refer to it in our function call, Python has no choice but to assign our single input to variables again based on position. So 'Woof!' gets unintentionally assigned to animal, because animal comes first in the position in the function definition."
   ]
  },
  {
   "cell_type": "code",
   "execution_count": 22,
   "id": "7a849dae",
   "metadata": {},
   "outputs": [
    {
     "name": "stdout",
     "output_type": "stream",
     "text": [
      "The Dog says:  Woof!\n"
     ]
    }
   ],
   "source": [
    "animal_speak(phrase = 'Woof!')"
   ]
  },
  {
   "cell_type": "code",
   "execution_count": 23,
   "id": "99d12a74",
   "metadata": {},
   "outputs": [
    {
     "name": "stdout",
     "output_type": "stream",
     "text": [
      "The bear says:  Raaaaaaaaawrrr!\n"
     ]
    }
   ],
   "source": [
    "animal_speak(animal='bear', phrase = 'Raaaaaaaaawrrr!')"
   ]
  },
  {
   "cell_type": "markdown",
   "id": "ee0412cd",
   "metadata": {},
   "source": [
    "Let's talk about Docstrings. Docstrings are a way for you to tell people how to use your function"
   ]
  },
  {
   "cell_type": "code",
   "execution_count": 27,
   "id": "60a1914a",
   "metadata": {},
   "outputs": [],
   "source": [
    "def animal_speak(animal, phrase):\n",
    "    \n",
    "#    This function prints out what different animals might \"say\". By default it is set to \"Dog\" and \"Default animal noise\"\n",
    "    \n",
    "    \n",
    "    \n",
    "    print(f'The {animal} says: ', phrase)"
   ]
  },
  {
   "cell_type": "code",
   "execution_count": 28,
   "id": "c47e53f3",
   "metadata": {},
   "outputs": [
    {
     "name": "stdout",
     "output_type": "stream",
     "text": [
      "Help on function animal_speak in module __main__:\n",
      "\n",
      "animal_speak(animal, phrase)\n",
      "\n"
     ]
    }
   ],
   "source": [
    "help(animal_speak)"
   ]
  },
  {
   "cell_type": "code",
   "execution_count": 32,
   "id": "76f5fded",
   "metadata": {},
   "outputs": [],
   "source": [
    "def animal_speak(animal, phrase):\n",
    "    \n",
    "    '''\n",
    "    This function prints out what different animals might \"say\". By default it is set to \"Dog\" and \"Default animal noise\"\n",
    "    \n",
    "    '''\n",
    "    \n",
    "    print(f'The {animal} says: ', phrase)"
   ]
  },
  {
   "cell_type": "code",
   "execution_count": 31,
   "id": "4aed8def",
   "metadata": {},
   "outputs": [
    {
     "name": "stdout",
     "output_type": "stream",
     "text": [
      "Help on function animal_speak in module __main__:\n",
      "\n",
      "animal_speak(animal, phrase)\n",
      "    This function prints out what different animals might \"say\". By default it is set to \"Dog\" and \"Default animal noise\"\n",
      "\n"
     ]
    }
   ],
   "source": [
    "help(animal_speak)"
   ]
  },
  {
   "cell_type": "code",
   "execution_count": 39,
   "id": "47796ce3",
   "metadata": {},
   "outputs": [],
   "source": [
    "def animal_speak(animal='Dog', phrase='Default animal noise'):\n",
    "    \n",
    "    print(f'The {animal} says: ', phrase) # <-- more on using 'f' strings later!"
   ]
  },
  {
   "cell_type": "code",
   "execution_count": 40,
   "id": "881c133b",
   "metadata": {},
   "outputs": [
    {
     "name": "stdout",
     "output_type": "stream",
     "text": [
      "The Dog says:  Woof!\n"
     ]
    }
   ],
   "source": [
    "x = animal_speak(phrase = 'Woof!')"
   ]
  },
  {
   "cell_type": "code",
   "execution_count": 36,
   "id": "4ad5f59a",
   "metadata": {},
   "outputs": [
    {
     "data": {
      "text/plain": [
       "NoneType"
      ]
     },
     "execution_count": 36,
     "metadata": {},
     "output_type": "execute_result"
    }
   ],
   "source": [
    "type(x)"
   ]
  },
  {
   "cell_type": "code",
   "execution_count": null,
   "id": "55c7bf32",
   "metadata": {},
   "outputs": [],
   "source": []
  }
 ],
 "metadata": {
  "kernelspec": {
   "display_name": "Python 3 (ipykernel)",
   "language": "python",
   "name": "python3"
  },
  "language_info": {
   "codemirror_mode": {
    "name": "ipython",
    "version": 3
   },
   "file_extension": ".py",
   "mimetype": "text/x-python",
   "name": "python",
   "nbconvert_exporter": "python",
   "pygments_lexer": "ipython3",
   "version": "3.7.15"
  }
 },
 "nbformat": 4,
 "nbformat_minor": 5
}
