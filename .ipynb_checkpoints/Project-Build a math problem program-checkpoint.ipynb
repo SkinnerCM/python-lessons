{
 "cells": [
  {
   "cell_type": "markdown",
   "id": "50ec4e03",
   "metadata": {},
   "source": [
    "First, design and build a program which presents a user with an addition problem. If the user gets the problem correct, provide congratulations and ask them if they would like to solve another problem or quit. If they get it wrong, tell them, but give them another chance or the option to quit. Be mindful of the potential of the user to \"break\" the program!"
   ]
  },
  {
   "cell_type": "markdown",
   "id": "257f6b1c",
   "metadata": {},
   "source": [
    "For this problem, we need to somehow come up with numbers for the user to add. But how? Good news! Numpy has a built-in random number generator! We can use this to generate different numbers for the user each time."
   ]
  },
  {
   "cell_type": "code",
   "execution_count": 3,
   "id": "b9e9e09b",
   "metadata": {},
   "outputs": [],
   "source": [
    "from numpy import random as rnd #you can import as almost any name you choose (just not built-in Python names)"
   ]
  },
  {
   "cell_type": "code",
   "execution_count": 7,
   "id": "951412c3",
   "metadata": {},
   "outputs": [
    {
     "name": "stdout",
     "output_type": "stream",
     "text": [
      "Help on built-in function randint:\n",
      "\n",
      "randint(...) method of numpy.random.mtrand.RandomState instance\n",
      "    randint(low, high=None, size=None, dtype=int)\n",
      "    \n",
      "    Return random integers from `low` (inclusive) to `high` (exclusive).\n",
      "    \n",
      "    Return random integers from the \"discrete uniform\" distribution of\n",
      "    the specified dtype in the \"half-open\" interval [`low`, `high`). If\n",
      "    `high` is None (the default), then results are from [0, `low`).\n",
      "    \n",
      "    .. note::\n",
      "        New code should use the ``integers`` method of a ``default_rng()``\n",
      "        instance instead; please see the :ref:`random-quick-start`.\n",
      "    \n",
      "    Parameters\n",
      "    ----------\n",
      "    low : int or array-like of ints\n",
      "        Lowest (signed) integers to be drawn from the distribution (unless\n",
      "        ``high=None``, in which case this parameter is one above the\n",
      "        *highest* such integer).\n",
      "    high : int or array-like of ints, optional\n",
      "        If provided, one above the largest (signed) integer to be drawn\n",
      "        from the distribution (see above for behavior if ``high=None``).\n",
      "        If array-like, must contain integer values\n",
      "    size : int or tuple of ints, optional\n",
      "        Output shape.  If the given shape is, e.g., ``(m, n, k)``, then\n",
      "        ``m * n * k`` samples are drawn.  Default is None, in which case a\n",
      "        single value is returned.\n",
      "    dtype : dtype, optional\n",
      "        Desired dtype of the result. Byteorder must be native.\n",
      "        The default value is int.\n",
      "    \n",
      "        .. versionadded:: 1.11.0\n",
      "    \n",
      "    Returns\n",
      "    -------\n",
      "    out : int or ndarray of ints\n",
      "        `size`-shaped array of random integers from the appropriate\n",
      "        distribution, or a single such random int if `size` not provided.\n",
      "    \n",
      "    See Also\n",
      "    --------\n",
      "    random_integers : similar to `randint`, only for the closed\n",
      "        interval [`low`, `high`], and 1 is the lowest value if `high` is\n",
      "        omitted.\n",
      "    Generator.integers: which should be used for new code.\n",
      "    \n",
      "    Examples\n",
      "    --------\n",
      "    >>> np.random.randint(2, size=10)\n",
      "    array([1, 0, 0, 0, 1, 1, 0, 0, 1, 0]) # random\n",
      "    >>> np.random.randint(1, size=10)\n",
      "    array([0, 0, 0, 0, 0, 0, 0, 0, 0, 0])\n",
      "    \n",
      "    Generate a 2 x 4 array of ints between 0 and 4, inclusive:\n",
      "    \n",
      "    >>> np.random.randint(5, size=(2, 4))\n",
      "    array([[4, 0, 2, 1], # random\n",
      "           [3, 2, 2, 0]])\n",
      "    \n",
      "    Generate a 1 x 3 array with 3 different upper bounds\n",
      "    \n",
      "    >>> np.random.randint(1, [3, 5, 10])\n",
      "    array([2, 2, 9]) # random\n",
      "    \n",
      "    Generate a 1 by 3 array with 3 different lower bounds\n",
      "    \n",
      "    >>> np.random.randint([1, 5, 7], 10)\n",
      "    array([9, 8, 7]) # random\n",
      "    \n",
      "    Generate a 2 by 4 array using broadcasting with dtype of uint8\n",
      "    \n",
      "    >>> np.random.randint([1, 3, 5, 7], [[10], [20]], dtype=np.uint8)\n",
      "    array([[ 8,  6,  9,  7], # random\n",
      "           [ 1, 16,  9, 12]], dtype=uint8)\n",
      "\n"
     ]
    }
   ],
   "source": [
    "help(rnd.randint)"
   ]
  },
  {
   "cell_type": "code",
   "execution_count": 45,
   "id": "9d86606c",
   "metadata": {},
   "outputs": [
    {
     "data": {
      "text/plain": [
       "63"
      ]
     },
     "execution_count": 45,
     "metadata": {},
     "output_type": "execute_result"
    }
   ],
   "source": [
    "rnd.randint(1000)"
   ]
  },
  {
   "cell_type": "markdown",
   "id": "d22b9848",
   "metadata": {},
   "source": [
    "^^^This does exactly what we want!"
   ]
  },
  {
   "cell_type": "markdown",
   "id": "740bc477",
   "metadata": {},
   "source": [
    "Let's do some pseudocode to map out the structure of our program. \n",
    "\n",
    "*Task: design and build a program which presents a user with an addition problem. If the user gets the problem correct, provide congratulations and ask them if they would like to solve another problem or quit. If they get it wrong, tell them, but give them another chance or the option to quit. Be mindful of the potential of the user to \"break\" the program!*"
   ]
  },
  {
   "cell_type": "markdown",
   "id": "8eab01ac",
   "metadata": {},
   "source": [
    "1. Present an addition problem to the user\n",
    "    - generate a number\n",
    "        - use the randint method\n",
    "            - use rnd.randint(1000)\n",
    "                - x = rand.int(1000)\n",
    "    - generate a second number\n",
    "        \n",
    "    - print them to the screen\n",
    "    \n",
    "2. "
   ]
  },
  {
   "cell_type": "code",
   "execution_count": 59,
   "id": "e4941fa4",
   "metadata": {},
   "outputs": [
    {
     "name": "stdout",
     "output_type": "stream",
     "text": [
      "Hey! Can you solve this?\n",
      "\n",
      "  324\n",
      "+ 532\n",
      "-----\n"
     ]
    }
   ],
   "source": [
    "print('Hey! Can you solve this?')\n",
    "print('\\n  324\\n+ 532\\n-----')"
   ]
  },
  {
   "cell_type": "code",
   "execution_count": null,
   "id": "ed9241a0",
   "metadata": {},
   "outputs": [],
   "source": []
  }
 ],
 "metadata": {
  "kernelspec": {
   "display_name": "Python 3 (ipykernel)",
   "language": "python",
   "name": "python3"
  },
  "language_info": {
   "codemirror_mode": {
    "name": "ipython",
    "version": 3
   },
   "file_extension": ".py",
   "mimetype": "text/x-python",
   "name": "python",
   "nbconvert_exporter": "python",
   "pygments_lexer": "ipython3",
   "version": "3.7.15"
  }
 },
 "nbformat": 4,
 "nbformat_minor": 5
}
