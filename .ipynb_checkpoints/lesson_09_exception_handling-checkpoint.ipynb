{
 "cells": [
  {
   "cell_type": "markdown",
   "id": "6c62c682",
   "metadata": {},
   "source": [
    "In programming we sometimes need user input, and if that user input is of the wrong data type, it could lead to an error aka and exception and crash our program. To guard against such exceptions, Python has a built-in system for *exception handling* when we anticipate possible errors. The system is call \"try-except\"."
   ]
  },
  {
   "cell_type": "code",
   "execution_count": 8,
   "id": "db42fcd9",
   "metadata": {},
   "outputs": [
    {
     "name": "stdout",
     "output_type": "stream",
     "text": [
      "Give me a number: 3\n",
      "Give me another number:A\n"
     ]
    },
    {
     "ename": "ValueError",
     "evalue": "invalid literal for int() with base 10: 'A'",
     "output_type": "error",
     "traceback": [
      "\u001b[1;31m---------------------------------------------------------------------------\u001b[0m",
      "\u001b[1;31mValueError\u001b[0m                                Traceback (most recent call last)",
      "\u001b[1;32m~\\AppData\\Local\\Temp\\ipykernel_8372\\1044189495.py\u001b[0m in \u001b[0;36m<module>\u001b[1;34m\u001b[0m\n\u001b[0;32m      1\u001b[0m \u001b[0ma\u001b[0m \u001b[1;33m=\u001b[0m \u001b[0mint\u001b[0m\u001b[1;33m(\u001b[0m\u001b[0minput\u001b[0m\u001b[1;33m(\u001b[0m\u001b[1;34m'Give me a number: '\u001b[0m\u001b[1;33m)\u001b[0m\u001b[1;33m)\u001b[0m\u001b[1;33m\u001b[0m\u001b[1;33m\u001b[0m\u001b[0m\n\u001b[1;32m----> 2\u001b[1;33m \u001b[0mb\u001b[0m \u001b[1;33m=\u001b[0m \u001b[0mint\u001b[0m\u001b[1;33m(\u001b[0m\u001b[0minput\u001b[0m\u001b[1;33m(\u001b[0m\u001b[1;34m'Give me another number:'\u001b[0m\u001b[1;33m)\u001b[0m\u001b[1;33m)\u001b[0m\u001b[1;33m\u001b[0m\u001b[1;33m\u001b[0m\u001b[0m\n\u001b[0m\u001b[0;32m      3\u001b[0m \u001b[1;33m\u001b[0m\u001b[0m\n\u001b[0;32m      4\u001b[0m \u001b[0mquotient\u001b[0m \u001b[1;33m=\u001b[0m \u001b[0ma\u001b[0m\u001b[1;33m/\u001b[0m\u001b[0mb\u001b[0m\u001b[1;33m\u001b[0m\u001b[1;33m\u001b[0m\u001b[0m\n\u001b[0;32m      5\u001b[0m \u001b[1;33m\u001b[0m\u001b[0m\n",
      "\u001b[1;31mValueError\u001b[0m: invalid literal for int() with base 10: 'A'"
     ]
    }
   ],
   "source": [
    "a = int(input('Give me a number: '))\n",
    "b = int(input('Give me another number:'))\n",
    "\n",
    "quotient = a/b\n",
    "\n",
    "print('The quotient of your two numbers is: ', quotient)"
   ]
  },
  {
   "cell_type": "code",
   "execution_count": 9,
   "id": "19629142",
   "metadata": {},
   "outputs": [
    {
     "name": "stdout",
     "output_type": "stream",
     "text": [
      "Give me a number: 3\n",
      "Give me another number:A\n",
      "Both numbers must be integers and the second number cannot be zero.\n"
     ]
    }
   ],
   "source": [
    "try:\n",
    "    \n",
    "    a = int(input('Give me a number: '))\n",
    "    b = int(input('Give me another number:'))\n",
    "    \n",
    "    quotient = a/b\n",
    "    \n",
    "    print('The quotient of your two numbers is: ', quotient)\n",
    "    \n",
    "except:\n",
    "    \n",
    "    print('Both numbers must be integers and the second number cannot be zero.')    "
   ]
  },
  {
   "cell_type": "code",
   "execution_count": 1,
   "id": "696d1b8a",
   "metadata": {},
   "outputs": [
    {
     "name": "stdout",
     "output_type": "stream",
     "text": [
      "Give me a number: 4\n",
      "Give me another number: 2\n",
      "The quotient of your two numbers is:  2.0\n",
      "Enter Q to quit, or press any other key to continue: \n",
      "\n",
      "\n",
      "Give me a number: a\n",
      "Both numbers must be integers and the second number cannot be zero.\n",
      "Give me a number: 8\n",
      "Give me another number: A\n",
      "Both numbers must be integers and the second number cannot be zero.\n",
      "Give me a number: 0\n",
      "Give me another number: 0\n",
      "Both numbers must be integers and the second number cannot be zero.\n",
      "Give me a number: 2\n",
      "Give me another number: 2\n",
      "The quotient of your two numbers is:  1.0\n",
      "Enter Q to quit, or press any other key to continue: q\n",
      "\n",
      "\n"
     ]
    }
   ],
   "source": [
    "flag = True\n",
    "\n",
    "while flag:\n",
    "    \n",
    "    try:\n",
    "\n",
    "        a = int(input('Give me a number: '))\n",
    "        b = int(input('Give me another number: '))\n",
    "\n",
    "        quotient = a/b\n",
    "\n",
    "        print('The quotient of your two numbers is: ', quotient)\n",
    "        \n",
    "        exit = input(\"Enter Q to quit, or press any other key to continue: \")\n",
    "        print('\\n')\n",
    "\n",
    "        if (exit == 'Q') or (exit == 'q'):\n",
    "\n",
    "            flag = False\n",
    "\n",
    "    except:\n",
    "\n",
    "        print('Both numbers must be integers and the second number cannot be zero.') "
   ]
  },
  {
   "cell_type": "code",
   "execution_count": null,
   "id": "be618efd",
   "metadata": {},
   "outputs": [],
   "source": []
  }
 ],
 "metadata": {
  "kernelspec": {
   "display_name": "Python 3 (ipykernel)",
   "language": "python",
   "name": "python3"
  },
  "language_info": {
   "codemirror_mode": {
    "name": "ipython",
    "version": 3
   },
   "file_extension": ".py",
   "mimetype": "text/x-python",
   "name": "python",
   "nbconvert_exporter": "python",
   "pygments_lexer": "ipython3",
   "version": "3.8.16"
  }
 },
 "nbformat": 4,
 "nbformat_minor": 5
}
