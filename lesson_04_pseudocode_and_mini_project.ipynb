{
 "cells": [
  {
   "cell_type": "markdown",
   "id": "05c17902",
   "metadata": {},
   "source": [
    "#  Create a simple program with loops and if/else (i.e. logic) statements which prints out numbers from 1 to 10 and then from 10 it counts back down to 1 "
   ]
  },
  {
   "cell_type": "markdown",
   "id": "eb5e4814",
   "metadata": {},
   "source": [
    "### Psuedo-code is an outline which describes each step in an algorithm at a *high level* which at a higher level than the programming language in which you will eventually write the program.  \n",
    "\n",
    "First attempt (for good pseudocode):\n",
    "\n",
    "Start off at 1\\\n",
    "Implement a counter which \"climbs\" the staircase one step at a time\\\n",
    "keep going until you hit 10\\\n",
    "start descending the staircase one at a time until you hit 1\n",
    "\n",
    "^^^Not quite detailed enough, but it's a start\n",
    "\n",
    "Second attempt (for better pseudocode):\n",
    "\n",
    "intialize a counter variable at one\\\n",
    "Use a loop to \n",
    "    1. print the counter variable \n",
    "    2. increment the counter variable by one\n",
    "do this up until counter variable == 10\n",
    "\n",
    "Use another loop to \n",
    "    1. print the counter variable\n",
    "    2. decrement the counter variable by 1\n",
    "do this until counter variable == 0\n",
    "\n",
    "^^^ pretty good. Can we say what type of loop? \n",
    "\n",
    "Third attempt:\n",
    "\n",
    "counter = 1\n",
    "\n",
    "for index from 0 to 10\n",
    "    print counter\n",
    "    add 1 to counter\n",
    "    \n",
    "for index from 0 to 10 \n",
    "    print counter\n",
    "    subtract 1 from counter\n",
    "\n",
    "^^^ This is as good as it gets for pseudo-code. Any additional detail will just be what code syntax itself should be (which is literally just the code.\n",
    "\n"
   ]
  },
  {
   "cell_type": "code",
   "execution_count": 1,
   "id": "55e6f14e",
   "metadata": {},
   "outputs": [
    {
     "name": "stdout",
     "output_type": "stream",
     "text": [
      "1\n",
      "2\n",
      "3\n",
      "4\n",
      "5\n",
      "6\n",
      "7\n",
      "8\n",
      "9\n",
      "10\n",
      "11\n",
      "10\n",
      "9\n",
      "8\n",
      "7\n",
      "6\n",
      "5\n",
      "4\n",
      "3\n",
      "2\n"
     ]
    }
   ],
   "source": [
    "counter = 1\n",
    "\n",
    "for i in range(10):\n",
    "    print(counter)\n",
    "    counter+=1\n",
    "    \n",
    "for i in range(10):\n",
    "    print(counter)\n",
    "    counter-=1   "
   ]
  },
  {
   "cell_type": "markdown",
   "id": "eb12e405",
   "metadata": {},
   "source": [
    "### This is very close to what we wanted, but it looks like we did just one more iteration on the ascending loop (but enough iterations on the descending loop), so we can tweak it by simply lowering the range in the first loop from 10 to 9"
   ]
  },
  {
   "cell_type": "code",
   "execution_count": 2,
   "id": "16bd4a28",
   "metadata": {},
   "outputs": [
    {
     "name": "stdout",
     "output_type": "stream",
     "text": [
      "1\n",
      "2\n",
      "3\n",
      "4\n",
      "5\n",
      "6\n",
      "7\n",
      "8\n",
      "9\n",
      "10\n",
      "9\n",
      "8\n",
      "7\n",
      "6\n",
      "5\n",
      "4\n",
      "3\n",
      "2\n",
      "1\n"
     ]
    }
   ],
   "source": [
    "counter = 1\n",
    "\n",
    "for i in range(9):\n",
    "    print(counter)\n",
    "    counter+=1\n",
    "    \n",
    "for i in range(10):\n",
    "    print(counter)\n",
    "    counter-=1   "
   ]
  },
  {
   "cell_type": "markdown",
   "id": "4e8e3f1b",
   "metadata": {},
   "source": [
    "### Project: Do the staircase program but with only a single while loop"
   ]
  },
  {
   "cell_type": "code",
   "execution_count": null,
   "id": "522c694b",
   "metadata": {},
   "outputs": [],
   "source": []
  }
 ],
 "metadata": {
  "kernelspec": {
   "display_name": "Python 3 (ipykernel)",
   "language": "python",
   "name": "python3"
  },
  "language_info": {
   "codemirror_mode": {
    "name": "ipython",
    "version": 3
   },
   "file_extension": ".py",
   "mimetype": "text/x-python",
   "name": "python",
   "nbconvert_exporter": "python",
   "pygments_lexer": "ipython3",
   "version": "3.7.15"
  }
 },
 "nbformat": 4,
 "nbformat_minor": 5
}
