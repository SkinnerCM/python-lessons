{
 "cells": [
  {
   "cell_type": "markdown",
   "id": "de062257",
   "metadata": {},
   "source": [
    "In programming, we often find ourselves needing to do the same process or routine over and over. It would be a waste of time and add unecessary complexity to your code making it hard read if we write the same code over and over in our program. So, for these situations we have functions. Functions in CS are very similar to mathematical functions in that they take in some data (but there are rare occassions where a function does not take in data) and do something to the data and then return data (but, there are some instances where a function does not need to return anything). \n",
    "\n",
    "Python syntax:\n",
    "\n",
    "\"\"\"\n",
    "\n",
    "def \\<function_name\\>(input 1, input 2, etc.):\n",
    "\n",
    "    *indented* block of code, called the function body\n",
    "    \n",
    "    return <whatever data you want to return>\n",
    "\"\"\"\n",
    "\n",
    "The first line is called the function signature and it includes the name used to call the function, a list of parameters and/or arguments (i.e. inputs) in parentheses and is terminated with a colon.\n",
    "\n",
    "Next is the function body, which includes the code that usually performs some operation(s) on the inputs.\n",
    "\n",
    "Finally, there is the return statement which specifies which data to pass back after the function call. *If no return statement is specified, functions return NoneType by default.*"
   ]
  },
  {
   "cell_type": "code",
   "execution_count": 15,
   "id": "25f4e370",
   "metadata": {},
   "outputs": [],
   "source": [
    "#ex. Let's write a function, which takes in a number, squares it and returns the answer\n",
    "\n",
    "def num_square(x):\n",
    "    \n",
    "    \n",
    "    squared = x*x\n",
    "    \n",
    "    \n",
    "    return squared"
   ]
  },
  {
   "cell_type": "markdown",
   "id": "91236f7d",
   "metadata": {},
   "source": [
    "When you run a block of code with a \"def\" statement, that is not *calling* the function, that is only telling Python there is a function which goes by that function name, and takes in those particular inputs and returns some particular data. In other words, when you define a function, the function body never runs (so if there are any errors in the function body, you won't get an error message when you're defining it). The function body only runs when you *call* the function."
   ]
  },
  {
   "cell_type": "code",
   "execution_count": 2,
   "id": "29a42b96",
   "metadata": {},
   "outputs": [
    {
     "data": {
      "text/plain": [
       "<function __main__.num_square(x)>"
      ]
     },
     "execution_count": 2,
     "metadata": {},
     "output_type": "execute_result"
    }
   ],
   "source": [
    "num_square"
   ]
  },
  {
   "cell_type": "markdown",
   "id": "ebc723aa",
   "metadata": {},
   "source": [
    "^^^ simply typing the function name this way just queries Python to ask if \"num_square\" is defined. Since we defined it first, Python responded by telling us that it does recognize the name \"num_square\" and that it is a function which takes in a variable called \"x\"\n",
    "\n",
    "To *call* a function means to use it; i.e. you give it some input and it does its thing in the background and returns some output\n",
    "\n",
    "Syntax:\n",
    "\n",
    "\\<function_name\\>(some input)"
   ]
  },
  {
   "cell_type": "code",
   "execution_count": 16,
   "id": "291be735",
   "metadata": {},
   "outputs": [],
   "source": [
    "#ex.\n",
    "\n",
    "x = num_square(3)"
   ]
  },
  {
   "cell_type": "markdown",
   "id": "e8e5f90f",
   "metadata": {},
   "source": [
    "Note, we do not have to tell Python that x is 3; since there is no ambiguity (because num_square only takes in one input and we only passed in one input) Python automatically assigns 3 to x. However, we actually can tell Python that x=3 when we call the function, and it works just the same. It is not necessary for num_square, but we'll see later that in certain circumstances it *is* necessary to tell Python which data belongs to which function variable."
   ]
  },
  {
   "cell_type": "code",
   "execution_count": 7,
   "id": "daa672b1",
   "metadata": {},
   "outputs": [
    {
     "data": {
      "text/plain": [
       "9"
      ]
     },
     "execution_count": 7,
     "metadata": {},
     "output_type": "execute_result"
    }
   ],
   "source": [
    "#ex.\n",
    "\n",
    "num_square(x=3)"
   ]
  },
  {
   "cell_type": "markdown",
   "id": "65b64851",
   "metadata": {},
   "source": [
    "Note also that num_square is returning data, but currently we're not doing anything with it; i.e. it is only being printed to screen at the moment. Usually, we'll want to save the data "
   ]
  },
  {
   "cell_type": "code",
   "execution_count": 5,
   "id": "91b588b7",
   "metadata": {},
   "outputs": [],
   "source": [
    "#ex.\n",
    "\n",
    "output = num_square(3)"
   ]
  },
  {
   "cell_type": "code",
   "execution_count": 6,
   "id": "63a02bab",
   "metadata": {},
   "outputs": [
    {
     "data": {
      "text/plain": [
       "9"
      ]
     },
     "execution_count": 6,
     "metadata": {},
     "output_type": "execute_result"
    }
   ],
   "source": [
    "output"
   ]
  },
  {
   "cell_type": "markdown",
   "id": "425e6dac",
   "metadata": {},
   "source": [
    "With functions, in the function signature we can specify to users what data types the function was designed to accept for specific variables and what the data type is for the retrun value."
   ]
  },
  {
   "cell_type": "code",
   "execution_count": 25,
   "id": "6bae712e",
   "metadata": {},
   "outputs": [],
   "source": [
    "#ex. Let's write a function, which takes in a number, squares it and returns the answer\n",
    "\n",
    "def num_square(x:float ) -> float:\n",
    "    \n",
    "    \n",
    "    squared = x*x\n",
    "    \n",
    "    \n",
    "    return squared"
   ]
  },
  {
   "cell_type": "markdown",
   "id": "22453b34",
   "metadata": {},
   "source": [
    "In the above code, after 'x' we put a colon and then 'float' to indicate that the input 'x' is expected to be a float (and the function will potentially crash if another datatype is passed in). This is called a **type hint**. Type hints are not enforced at runtime, but are useful for providing clarity to developers. Similarly, the above function signature also includes the **return type hint** '-> float' to indicate to users that the expected output is also a float."
   ]
  },
  {
   "cell_type": "code",
   "execution_count": 27,
   "id": "1a1fce4b",
   "metadata": {},
   "outputs": [
    {
     "data": {
      "text/plain": [
       "18.0625"
      ]
     },
     "execution_count": 27,
     "metadata": {},
     "output_type": "execute_result"
    }
   ],
   "source": [
    "num_square(4.25)"
   ]
  },
  {
   "cell_type": "markdown",
   "id": "f64ad26e",
   "metadata": {},
   "source": [
    "You can make several calls to a function and do stuff to the output before saving the result to a variable"
   ]
  },
  {
   "cell_type": "code",
   "execution_count": 37,
   "id": "611aaaea",
   "metadata": {},
   "outputs": [],
   "source": [
    "hyp_squared = num_square(2)+num_square(5)"
   ]
  },
  {
   "cell_type": "code",
   "execution_count": 38,
   "id": "49dda377",
   "metadata": {},
   "outputs": [
    {
     "data": {
      "text/plain": [
       "29"
      ]
     },
     "execution_count": 38,
     "metadata": {},
     "output_type": "execute_result"
    }
   ],
   "source": [
    "hyp_squared"
   ]
  },
  {
   "cell_type": "markdown",
   "id": "221b3005",
   "metadata": {},
   "source": [
    "Note, if we pass in too many or too few variables, or the wrong type of data, we'll get an error"
   ]
  },
  {
   "cell_type": "code",
   "execution_count": 12,
   "id": "a7040cd4",
   "metadata": {},
   "outputs": [
    {
     "ename": "TypeError",
     "evalue": "num_square() missing 1 required positional argument: 'x'",
     "output_type": "error",
     "traceback": [
      "\u001b[1;31m---------------------------------------------------------------------------\u001b[0m",
      "\u001b[1;31mTypeError\u001b[0m                                 Traceback (most recent call last)",
      "Cell \u001b[1;32mIn[12], line 3\u001b[0m\n\u001b[0;32m      1\u001b[0m \u001b[38;5;66;03m#ex.\u001b[39;00m\n\u001b[1;32m----> 3\u001b[0m output \u001b[38;5;241m=\u001b[39m \u001b[43mnum_square\u001b[49m\u001b[43m(\u001b[49m\u001b[43m)\u001b[49m\n",
      "\u001b[1;31mTypeError\u001b[0m: num_square() missing 1 required positional argument: 'x'"
     ]
    }
   ],
   "source": [
    "#ex.\n",
    "\n",
    "output = num_square()"
   ]
  },
  {
   "cell_type": "code",
   "execution_count": 30,
   "id": "7f24f700",
   "metadata": {},
   "outputs": [],
   "source": [
    "def print_statement(word2, word1):\n",
    "    print(word1, word2)"
   ]
  },
  {
   "cell_type": "code",
   "execution_count": 34,
   "id": "22f269a4",
   "metadata": {},
   "outputs": [
    {
     "data": {
      "text/plain": [
       "function"
      ]
     },
     "execution_count": 34,
     "metadata": {},
     "output_type": "execute_result"
    }
   ],
   "source": [
    "type(print_statement)"
   ]
  },
  {
   "cell_type": "code",
   "execution_count": 32,
   "id": "dd75d0b1",
   "metadata": {},
   "outputs": [
    {
     "name": "stdout",
     "output_type": "stream",
     "text": [
      "world! Hello\n"
     ]
    },
    {
     "data": {
      "text/plain": [
       "NoneType"
      ]
     },
     "execution_count": 32,
     "metadata": {},
     "output_type": "execute_result"
    }
   ],
   "source": [
    "type(print_statement('Hello', 'world!'))"
   ]
  },
  {
   "cell_type": "code",
   "execution_count": 28,
   "id": "2b96e086",
   "metadata": {},
   "outputs": [
    {
     "name": "stdout",
     "output_type": "stream",
     "text": [
      "world! Hello\n"
     ]
    }
   ],
   "source": [
    "print_statement('world!', 'Hello')"
   ]
  },
  {
   "cell_type": "code",
   "execution_count": 40,
   "id": "edd128ea",
   "metadata": {},
   "outputs": [],
   "source": [
    "def mult(num1,num2):\n",
    "    \n",
    "    return num1*num2"
   ]
  },
  {
   "cell_type": "code",
   "execution_count": 41,
   "id": "d6e693d0",
   "metadata": {},
   "outputs": [
    {
     "ename": "TypeError",
     "evalue": "mult() takes 2 positional arguments but 3 were given",
     "output_type": "error",
     "traceback": [
      "\u001b[1;31m---------------------------------------------------------------------------\u001b[0m",
      "\u001b[1;31mTypeError\u001b[0m                                 Traceback (most recent call last)",
      "Cell \u001b[1;32mIn[41], line 1\u001b[0m\n\u001b[1;32m----> 1\u001b[0m \u001b[43mmult\u001b[49m\u001b[43m(\u001b[49m\u001b[38;5;241;43m2\u001b[39;49m\u001b[43m,\u001b[49m\u001b[38;5;241;43m5\u001b[39;49m\u001b[43m,\u001b[49m\u001b[38;5;241;43m3\u001b[39;49m\u001b[43m)\u001b[49m\n",
      "\u001b[1;31mTypeError\u001b[0m: mult() takes 2 positional arguments but 3 were given"
     ]
    }
   ],
   "source": [
    "mult(2,5,3)"
   ]
  },
  {
   "cell_type": "code",
   "execution_count": 42,
   "id": "4bbfc420",
   "metadata": {},
   "outputs": [],
   "source": [
    "def concatenate(l1:list, l2:list) ->list:\n",
    "    \n",
    "    return(l1+l2)"
   ]
  },
  {
   "cell_type": "code",
   "execution_count": 43,
   "id": "8ed0c59d",
   "metadata": {},
   "outputs": [
    {
     "data": {
      "text/plain": [
       "[1, 2, 3, 'a', 'b', 'c']"
      ]
     },
     "execution_count": 43,
     "metadata": {},
     "output_type": "execute_result"
    }
   ],
   "source": [
    "concatenate([1,2,3], ['a','b','c'])"
   ]
  },
  {
   "cell_type": "code",
   "execution_count": 45,
   "id": "b844dd31",
   "metadata": {},
   "outputs": [],
   "source": [
    "myList = [1,2,'a']"
   ]
  },
  {
   "cell_type": "code",
   "execution_count": 44,
   "id": "5dfe8107",
   "metadata": {},
   "outputs": [],
   "source": [
    "def list_checker(someList):\n",
    "    \n",
    "    \"\"\"\n",
    "    This function takes in a list and checks if the list contains any number in its elements. \n",
    "    If yes, the function returns \"True\" and returns \"False\" otherwise\n",
    "    \"\"\"\n",
    "    \n",
    "    for elem in someList:\n",
    "        \n",
    "        if type(elem) == int or type(elem) == float:\n",
    "            \n",
    "            return True\n",
    "        \n",
    "    return False"
   ]
  },
  {
   "cell_type": "code",
   "execution_count": 46,
   "id": "eee6fa98",
   "metadata": {},
   "outputs": [
    {
     "data": {
      "text/plain": [
       "True"
      ]
     },
     "execution_count": 46,
     "metadata": {},
     "output_type": "execute_result"
    }
   ],
   "source": [
    "list_checker(myList)"
   ]
  },
  {
   "cell_type": "code",
   "execution_count": 47,
   "id": "fb152d57",
   "metadata": {},
   "outputs": [],
   "source": [
    "noNumber = ['A', 'hello', 'zfrwefe', ' ', '1']"
   ]
  },
  {
   "cell_type": "code",
   "execution_count": 50,
   "id": "af144b97",
   "metadata": {},
   "outputs": [
    {
     "data": {
      "text/plain": [
       "False"
      ]
     },
     "execution_count": 50,
     "metadata": {},
     "output_type": "execute_result"
    }
   ],
   "source": [
    "list_checker(noNumber)"
   ]
  },
  {
   "cell_type": "code",
   "execution_count": 14,
   "id": "6a9a1889",
   "metadata": {},
   "outputs": [
    {
     "ename": "TypeError",
     "evalue": "num_square() takes 1 positional argument but 2 were given",
     "output_type": "error",
     "traceback": [
      "\u001b[1;31m---------------------------------------------------------------------------\u001b[0m",
      "\u001b[1;31mTypeError\u001b[0m                                 Traceback (most recent call last)",
      "\u001b[1;32m~\\AppData\\Local\\Temp\\ipykernel_17908\\1019111344.py\u001b[0m in \u001b[0;36m<module>\u001b[1;34m\u001b[0m\n\u001b[0;32m      1\u001b[0m \u001b[1;31m#ex.\u001b[0m\u001b[1;33m\u001b[0m\u001b[1;33m\u001b[0m\u001b[1;33m\u001b[0m\u001b[0m\n\u001b[0;32m      2\u001b[0m \u001b[1;33m\u001b[0m\u001b[0m\n\u001b[1;32m----> 3\u001b[1;33m \u001b[0moutput\u001b[0m \u001b[1;33m=\u001b[0m \u001b[0mnum_square\u001b[0m\u001b[1;33m(\u001b[0m\u001b[1;36m2\u001b[0m\u001b[1;33m,\u001b[0m\u001b[1;36m3\u001b[0m\u001b[1;33m)\u001b[0m\u001b[1;33m\u001b[0m\u001b[1;33m\u001b[0m\u001b[0m\n\u001b[0m",
      "\u001b[1;31mTypeError\u001b[0m: num_square() takes 1 positional argument but 2 were given"
     ]
    }
   ],
   "source": [
    "#ex.\n",
    "output = num_square(2,3)"
   ]
  },
  {
   "cell_type": "code",
   "execution_count": 29,
   "id": "1a5ddf83",
   "metadata": {},
   "outputs": [
    {
     "ename": "TypeError",
     "evalue": "can't multiply sequence by non-int of type 'str'",
     "output_type": "error",
     "traceback": [
      "\u001b[1;31m---------------------------------------------------------------------------\u001b[0m",
      "\u001b[1;31mTypeError\u001b[0m                                 Traceback (most recent call last)",
      "Cell \u001b[1;32mIn[29], line 3\u001b[0m\n\u001b[0;32m      1\u001b[0m \u001b[38;5;66;03m#ex.\u001b[39;00m\n\u001b[1;32m----> 3\u001b[0m output \u001b[38;5;241m=\u001b[39m \u001b[43mnum_square\u001b[49m\u001b[43m(\u001b[49m\u001b[38;5;124;43m'\u001b[39;49m\u001b[38;5;124;43mthis is a string\u001b[39;49m\u001b[38;5;124;43m'\u001b[39;49m\u001b[43m)\u001b[49m\n",
      "Cell \u001b[1;32mIn[1], line 6\u001b[0m, in \u001b[0;36mnum_square\u001b[1;34m(x)\u001b[0m\n\u001b[0;32m      3\u001b[0m \u001b[38;5;28;01mdef\u001b[39;00m \u001b[38;5;21mnum_square\u001b[39m(x):\n\u001b[1;32m----> 6\u001b[0m     squared \u001b[38;5;241m=\u001b[39m \u001b[43mx\u001b[49m\u001b[38;5;241;43m*\u001b[39;49m\u001b[43mx\u001b[49m\n\u001b[0;32m      9\u001b[0m     \u001b[38;5;28;01mreturn\u001b[39;00m squared\n",
      "\u001b[1;31mTypeError\u001b[0m: can't multiply sequence by non-int of type 'str'"
     ]
    }
   ],
   "source": [
    "#ex.\n",
    "\n",
    "output = num_square('this is a string')"
   ]
  },
  {
   "cell_type": "markdown",
   "id": "2b303c98",
   "metadata": {},
   "source": [
    "# Scope \n",
    "\n",
    "When we are working outside of a function (i.e. just using Python regularly) then we are in what is called the \"Global\" scope, where all variable defined at this scope are \"seen\" by Python always. However, when you are \"inside\" of a function, any variables which are defined inside that function, they are not \"seen\" in the global scope. They are only \"seen\" and can be referred to when you are inside the function.\n",
    "\n",
    "For example, num_square creates a variable called squared, where squared is the square of whatever value is passed into num_square. But, squared does not belong to the global scope and as such is undefined when outside the function."
   ]
  },
  {
   "cell_type": "code",
   "execution_count": 30,
   "id": "1c21b814",
   "metadata": {},
   "outputs": [
    {
     "ename": "NameError",
     "evalue": "name 'squared' is not defined",
     "output_type": "error",
     "traceback": [
      "\u001b[1;31m---------------------------------------------------------------------------\u001b[0m",
      "\u001b[1;31mNameError\u001b[0m                                 Traceback (most recent call last)",
      "Cell \u001b[1;32mIn[30], line 3\u001b[0m\n\u001b[0;32m      1\u001b[0m \u001b[38;5;66;03m#ex.\u001b[39;00m\n\u001b[1;32m----> 3\u001b[0m \u001b[43msquared\u001b[49m\n",
      "\u001b[1;31mNameError\u001b[0m: name 'squared' is not defined"
     ]
    }
   ],
   "source": [
    "#ex.\n",
    "\n",
    "squared"
   ]
  },
  {
   "cell_type": "markdown",
   "id": "0f6c1507",
   "metadata": {},
   "source": [
    "So squared is only temporarily defined, whily Python is working inside of num_square, and it cannot be accessed outside of num_square. If you *want* to access it, you must return it and be sure to *save* the output of the function to a variable *of the same name* Even then, you're not technically accessing that variable inside the function, you're just defining a variable of the same name assigned to the same data in the global scope. \n",
    "\n",
    "In short, variable in the global scope *can be* seen while inside any function, but variables defined inside functions cannot be seen outside the function in which they are defined."
   ]
  },
  {
   "cell_type": "code",
   "execution_count": 7,
   "id": "3d69e842",
   "metadata": {},
   "outputs": [
    {
     "data": {
      "text/plain": [
       "9"
      ]
     },
     "execution_count": 7,
     "metadata": {},
     "output_type": "execute_result"
    }
   ],
   "source": [
    "num_square(3)"
   ]
  },
  {
   "cell_type": "code",
   "execution_count": 8,
   "id": "224805fd",
   "metadata": {},
   "outputs": [
    {
     "ename": "NameError",
     "evalue": "name 'squared' is not defined",
     "output_type": "error",
     "traceback": [
      "\u001b[1;31m---------------------------------------------------------------------------\u001b[0m",
      "\u001b[1;31mNameError\u001b[0m                                 Traceback (most recent call last)",
      "\u001b[1;32m~\\AppData\\Local\\Temp\\ipykernel_14788\\1614948921.py\u001b[0m in \u001b[0;36m<module>\u001b[1;34m\u001b[0m\n\u001b[1;32m----> 1\u001b[1;33m \u001b[0msquared\u001b[0m\u001b[1;33m\u001b[0m\u001b[1;33m\u001b[0m\u001b[0m\n\u001b[0m",
      "\u001b[1;31mNameError\u001b[0m: name 'squared' is not defined"
     ]
    }
   ],
   "source": [
    "squared"
   ]
  },
  {
   "cell_type": "markdown",
   "id": "c94a55c5",
   "metadata": {},
   "source": [
    "We see that even calling the function, which we know internally creates the variable \"squared\", outside the function (in the global scope) \"squared\" remains undefined. It is only created and recognized inside the local scope of the function and only for the brief moment when Python is actually running the function body"
   ]
  },
  {
   "cell_type": "code",
   "execution_count": 9,
   "id": "0b4f7d3d",
   "metadata": {},
   "outputs": [],
   "source": [
    "squared = 'this is a string outside the function num_square'"
   ]
  },
  {
   "cell_type": "code",
   "execution_count": 10,
   "id": "4584638d",
   "metadata": {},
   "outputs": [
    {
     "data": {
      "text/plain": [
       "'this is a string outside the function num_square'"
      ]
     },
     "execution_count": 10,
     "metadata": {},
     "output_type": "execute_result"
    }
   ],
   "source": [
    "squared"
   ]
  },
  {
   "cell_type": "code",
   "execution_count": 11,
   "id": "af7d603c",
   "metadata": {},
   "outputs": [
    {
     "data": {
      "text/plain": [
       "9"
      ]
     },
     "execution_count": 11,
     "metadata": {},
     "output_type": "execute_result"
    }
   ],
   "source": [
    "num_square(3)"
   ]
  },
  {
   "cell_type": "code",
   "execution_count": 12,
   "id": "6eaaeb25",
   "metadata": {},
   "outputs": [
    {
     "data": {
      "text/plain": [
       "'this is a string outside the function num_square'"
      ]
     },
     "execution_count": 12,
     "metadata": {},
     "output_type": "execute_result"
    }
   ],
   "source": [
    "squared"
   ]
  },
  {
   "cell_type": "markdown",
   "id": "c4caba22",
   "metadata": {},
   "source": [
    "Notice that even when we define a variable called \"squared\" in the global environment and then call num_square, the \"squared\" variable in the global environment does not get overwritten, despite a variable \"squared\" being created within the function. This is because defining variable in the local scope of function has no effect on the variables in the global scope. They are in effect isolated from each other."
   ]
  },
  {
   "cell_type": "code",
   "execution_count": 13,
   "id": "cfa2c3f0",
   "metadata": {},
   "outputs": [],
   "source": [
    "squared = num_square(3)"
   ]
  },
  {
   "cell_type": "code",
   "execution_count": 14,
   "id": "a1009e1c",
   "metadata": {},
   "outputs": [
    {
     "data": {
      "text/plain": [
       "9"
      ]
     },
     "execution_count": 14,
     "metadata": {},
     "output_type": "execute_result"
    }
   ],
   "source": [
    "squared "
   ]
  },
  {
   "cell_type": "code",
   "execution_count": 50,
   "id": "65765fde",
   "metadata": {},
   "outputs": [],
   "source": [
    "#ex. Let's write a function which prints \"squared\" before it is defined inside function and once more after it is defined\n",
    "\n",
    "def num_square(x):\n",
    "    \n",
    "    squared = x*x\n",
    "    \n",
    "    print(\"The value of 'squared' inside this function is:\", squared)\n",
    "    \n",
    "    return squared"
   ]
  },
  {
   "cell_type": "code",
   "execution_count": 48,
   "id": "64b0d68c",
   "metadata": {},
   "outputs": [
    {
     "name": "stdout",
     "output_type": "stream",
     "text": [
      "The value of 'squared' inside this function is: 4\n"
     ]
    }
   ],
   "source": [
    "output = num_square(2)"
   ]
  },
  {
   "cell_type": "code",
   "execution_count": 49,
   "id": "aefed3ef",
   "metadata": {},
   "outputs": [
    {
     "data": {
      "text/plain": [
       "'this is a string outside the function num_square'"
      ]
     },
     "execution_count": 49,
     "metadata": {},
     "output_type": "execute_result"
    }
   ],
   "source": [
    "squared"
   ]
  },
  {
   "cell_type": "markdown",
   "id": "ccde4b14",
   "metadata": {},
   "source": [
    "Notice that we defined a varialbe called \"sqaured\" inside of num_square, but it did not overite the variable of the same name in the global scope"
   ]
  },
  {
   "cell_type": "markdown",
   "id": "8800e87d",
   "metadata": {},
   "source": [
    "You can see what's actually going on with variables at all scopes using pythontutor.com"
   ]
  },
  {
   "cell_type": "markdown",
   "id": "04e18d57",
   "metadata": {},
   "source": [
    "## Mini project\n",
    "\n",
    "Remember the staircase mini project? Now try implementing inside of a function where the function takes in a parameter N, and then prints to screen the numbers from 1 to N and then back down from N to 1. Here is an example of how it should behave (here, N=5):"
   ]
  },
  {
   "attachments": {
    "image.png": {
     "image/png": "[encoded data removed]"
    }
   },
   "cell_type": "markdown",
   "id": "48807b4d",
   "metadata": {},
   "source": [
    "![image.png](attachment:image.png)"
   ]
  },
  {
   "cell_type": "code",
   "execution_count": null,
   "id": "f6c86604",
   "metadata": {},
   "outputs": [],
   "source": []
  }
 ],
 "metadata": {
  "kernelspec": {
   "display_name": "Python 3 (ipykernel)",
   "language": "python",
   "name": "python3"
  },
  "language_info": {
   "codemirror_mode": {
    "name": "ipython",
    "version": 3
   },
   "file_extension": ".py",
   "mimetype": "text/x-python",
   "name": "python",
   "nbconvert_exporter": "python",
   "pygments_lexer": "ipython3",
   "version": "3.8.16"
  }
 },
 "nbformat": 4,
 "nbformat_minor": 5
}
